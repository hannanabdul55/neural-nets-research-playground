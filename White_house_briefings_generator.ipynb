{
  "nbformat": 4,
  "nbformat_minor": 0,
  "metadata": {
    "colab": {
      "name": "White house briefings generator",
      "provenance": [],
      "collapsed_sections": [],
      "toc_visible": true,
      "include_colab_link": true
    },
    "kernelspec": {
      "name": "python3",
      "display_name": "Python 3"
    }
  },
  "cells": [
    {
      "cell_type": "markdown",
      "metadata": {
        "id": "view-in-github",
        "colab_type": "text"
      },
      "source": [
        "<a href=\"https://colab.research.google.com/github/hannanabdul55/neural-nets-research-playground/blob/master/White_house_briefings_generator.ipynb\" target=\"_parent\"><img src=\"https://colab.research.google.com/assets/colab-badge.svg\" alt=\"Open In Colab\"/></a>"
      ]
    },
    {
      "cell_type": "markdown",
      "metadata": {
        "id": "H7LoMj4GA4n_",
        "colab_type": "text"
      },
      "source": [
        "#  Train a Whitehouse press briefings Model\n",
        "\n",
        "This is based off a notebook created by [Max Woolf](http://minimaxir.com) originally (so most of the credits go there!) and updated by [Abdul Hannan](https://abdulhannan.in).  \n",
        "\n",
        "The license is [here](#scrollTo=wmTXWNUygS5E).\n",
        "\n",
        "*Last updated: May 3, 2020*\n",
        "\n",
        "Retrain an advanced text generating neural network on any text dataset **for free on a GPU using Collaboratory** using Max Woolf's `gpt-2-simple` library!\n",
        "\n",
        "For more about `gpt-2-simple`, you can visit [this GitHub repository](https://github.com/minimaxir/gpt-2-simple). You can also read this [blog post](https://minimaxir.com/2019/09/howto-gpt2/) for more information how to use this notebook!\n",
        "\n",
        "\n",
        "To get started:\n",
        "\n",
        "1. Copy this notebook to your Google Drive to keep it and save your changes. (File -> Save a Copy in Drive)\n",
        "2. Make sure you're running the notebook in Google Chrome.\n",
        "3. Run the cells below:\n"
      ]
    },
    {
      "cell_type": "code",
      "metadata": {
        "id": "KBkpRgBCBS2_",
        "colab_type": "code",
        "outputId": "3d28207a-df54-415a-dd8b-7410ce69b436",
        "colab": {
          "base_uri": "https://localhost:8080/",
          "height": 187
        }
      },
      "source": [
        "%tensorflow_version 1.x\n",
        "!pip install -q gpt-2-simple\n",
        "import gpt_2_simple as gpt2\n",
        "from datetime import datetime\n",
        "from google.colab import files\n",
        "import tensorflow as tf"
      ],
      "execution_count": 0,
      "outputs": [
        {
          "output_type": "stream",
          "text": [
            "TensorFlow 1.x selected.\n",
            "  Building wheel for gpt-2-simple (setup.py) ... \u001b[?25l\u001b[?25hdone\n",
            "WARNING:tensorflow:\n",
            "The TensorFlow contrib module will not be included in TensorFlow 2.0.\n",
            "For more information, please see:\n",
            "  * https://github.com/tensorflow/community/blob/master/rfcs/20180907-contrib-sunset.md\n",
            "  * https://github.com/tensorflow/addons\n",
            "  * https://github.com/tensorflow/io (for I/O related ops)\n",
            "If you depend on functionality not listed there, please file an issue.\n",
            "\n"
          ],
          "name": "stdout"
        }
      ]
    },
    {
      "cell_type": "markdown",
      "metadata": {
        "id": "Bj2IJLHP3KwE",
        "colab_type": "text"
      },
      "source": [
        "## GPU\n",
        "\n",
        "One of the main advantages of Google Colaboratory is that you can GPU access for free! Yes, for FREE! Hence, this is the perfect places to train your model from scratch.\n",
        "\n",
        "Run this command to see if there is a GPU connected to this instance.  "
      ]
    },
    {
      "cell_type": "code",
      "metadata": {
        "id": "hqNID4qu-pNq",
        "colab_type": "code",
        "outputId": "fb9cdcb3-6d2e-42d8-d137-85d26360dad3",
        "colab": {
          "base_uri": "https://localhost:8080/",
          "height": 164
        }
      },
      "source": [
        "print('GPU connected?\\n The answer is: ', tf.test.is_gpu_available())"
      ],
      "execution_count": 0,
      "outputs": [
        {
          "output_type": "error",
          "ename": "NameError",
          "evalue": "ignored",
          "traceback": [
            "\u001b[0;31m---------------------------------------------------------------------------\u001b[0m",
            "\u001b[0;31mNameError\u001b[0m                                 Traceback (most recent call last)",
            "\u001b[0;32m<ipython-input-1-53244d923155>\u001b[0m in \u001b[0;36m<module>\u001b[0;34m()\u001b[0m\n\u001b[0;32m----> 1\u001b[0;31m \u001b[0mprint\u001b[0m\u001b[0;34m(\u001b[0m\u001b[0;34m'GPU connected?\\n The answer is: '\u001b[0m\u001b[0;34m,\u001b[0m \u001b[0mtf\u001b[0m\u001b[0;34m.\u001b[0m\u001b[0mtest\u001b[0m\u001b[0;34m.\u001b[0m\u001b[0mis_gpu_available\u001b[0m\u001b[0;34m(\u001b[0m\u001b[0;34m)\u001b[0m\u001b[0;34m)\u001b[0m\u001b[0;34m\u001b[0m\u001b[0;34m\u001b[0m\u001b[0m\n\u001b[0m",
            "\u001b[0;31mNameError\u001b[0m: name 'tf' is not defined"
          ]
        }
      ]
    },
    {
      "cell_type": "markdown",
      "metadata": {
        "id": "mmDcjShuBR-k",
        "colab_type": "text"
      },
      "source": [
        "If the answer is `False`, then go to Runtime -> Change Runtime Type -> Under 'Hardware Accelerator', choose 'GPU'. Then re-run this notebook from the beginning. "
      ]
    },
    {
      "cell_type": "markdown",
      "metadata": {
        "id": "0wXB05bPDYxS",
        "colab_type": "text"
      },
      "source": [
        "## Downloading GPT-2\n",
        "\n",
        "If you're retraining a model on new text, you need to download the GPT-2 model first. \n",
        "\n",
        "There are three released sizes of GPT-2:\n",
        "\n",
        "* `124M` (default): the \"small\" model, 500MB on disk.\n",
        "* `355M`: the \"medium\" model, 1.5GB on disk.\n",
        "* `774M`: the \"large\" model, cannot currently be finetuned with Colaboratory but can be used to generate text from the pretrained model (see later in Notebook)\n",
        "* `1558M`: the \"extra large\", true model. Will not work if a K80 GPU is attached to the notebook. (like `774M`, it cannot be finetuned).\n",
        "\n",
        "Larger models have more knowledge, but take longer to finetune and longer to generate text. You can specify which base model to use by selecting the ceel from the dropdown form in the next cell.\n",
        "\n",
        "The next cell downloads it from Google Cloud Storage and saves it in the Colaboratory VM at `/models/<model_name>`.\n",
        "\n",
        "This model isn't permanently saved in the Colaboratory VM; you'll have to redownload it if you want to retrain it at a later time."
      ]
    },
    {
      "cell_type": "code",
      "metadata": {
        "id": "P8wSlgXoDPCR",
        "colab_type": "code",
        "outputId": "4a132bd3-82b2-442a-f743-d963d2563b03",
        "cellView": "form",
        "colab": {
          "base_uri": "https://localhost:8080/",
          "height": 136
        }
      },
      "source": [
        "#@title Choose how big a model you want to train.\n",
        "#@markdown Bigger model takes more GPU space and time to train! \n",
        "model_name = \"355M\" #@param [\"124M\", \"355M\", \"774M\", \"1558M\"]\n",
        "\n",
        "gpt2.download_gpt2(model_name=model_name)"
      ],
      "execution_count": 0,
      "outputs": [
        {
          "output_type": "stream",
          "text": [
            "Fetching checkpoint: 1.05Mit [00:00, 361Mit/s]                                                      \n",
            "Fetching encoder.json: 1.05Mit [00:00, 73.1Mit/s]                                                   \n",
            "Fetching hparams.json: 1.05Mit [00:00, 223Mit/s]                                                    \n",
            "Fetching model.ckpt.data-00000-of-00001: 498Mit [00:04, 110Mit/s]                                   \n",
            "Fetching model.ckpt.index: 1.05Mit [00:00, 254Mit/s]                                                \n",
            "Fetching model.ckpt.meta: 1.05Mit [00:00, 127Mit/s]                                                 \n",
            "Fetching vocab.bpe: 1.05Mit [00:00, 149Mit/s]                                                       \n"
          ],
          "name": "stderr"
        }
      ]
    },
    {
      "cell_type": "markdown",
      "metadata": {
        "id": "N8KXuKWzQSsN",
        "colab_type": "text"
      },
      "source": [
        "## Mounting Google Drive\n",
        "\n",
        "The best way to get input text to-be-trained into the Colaboratory VM, and to get the trained model *out* of Colaboratory, is to route it through Google Drive *first*.\n",
        "\n",
        "Running this cell (which will only work in Colaboratory) will mount your personal Google Drive in the VM, which later cells can use to get data in/out. (it will ask for an auth code; that auth is not saved anywhere)"
      ]
    },
    {
      "cell_type": "code",
      "metadata": {
        "id": "puq4iC6vUAHc",
        "colab_type": "code",
        "outputId": "130e9660-231f-40a9-b0ee-87b2049cb5f5",
        "colab": {
          "base_uri": "https://localhost:8080/",
          "height": 122
        }
      },
      "source": [
        "gpt2.mount_gdrive()"
      ],
      "execution_count": 0,
      "outputs": [
        {
          "output_type": "stream",
          "text": [
            "Go to this URL in a browser: https://accounts.google.com/o/oauth2/auth?client_id=947318989803-6bn6qk8qdgf4n4g3pfee6491hc0brc4i.apps.googleusercontent.com&redirect_uri=urn%3aietf%3awg%3aoauth%3a2.0%3aoob&response_type=code&scope=email%20https%3a%2f%2fwww.googleapis.com%2fauth%2fdocs.test%20https%3a%2f%2fwww.googleapis.com%2fauth%2fdrive%20https%3a%2f%2fwww.googleapis.com%2fauth%2fdrive.photos.readonly%20https%3a%2f%2fwww.googleapis.com%2fauth%2fpeopleapi.readonly\n",
            "\n",
            "Enter your authorization code:\n",
            "··········\n",
            "Mounted at /content/drive\n"
          ],
          "name": "stdout"
        }
      ]
    },
    {
      "cell_type": "markdown",
      "metadata": {
        "id": "BT__brhBCvJu",
        "colab_type": "text"
      },
      "source": [
        "## Uploading a Text File to be Trained to Colaboratory\n",
        "\n",
        "In the Colaboratory Notebook sidebar on the left of the screen, select *Files*. From there you can upload files:\n",
        "\n",
        "![alt text](https://i.imgur.com/TGcZT4h.png)\n",
        "\n",
        "Upload **any smaller text file**  (<10 MB) and update the file name in the cell below, then run the cell."
      ]
    },
    {
      "cell_type": "code",
      "metadata": {
        "id": "6OFnPCLADfll",
        "colab_type": "code",
        "colab": {}
      },
      "source": [
        "# import some packages which will be used\n",
        "import pandas as pd\n",
        "from bs4 import BeautifulSoup\n",
        "import urllib.request\n",
        "\n",
        "# define some methods which will be used to extract data from the HTML websites\n",
        "\n",
        "def get_html_text(url_p):\n",
        "    print('Reading URL: %s'%(url_p))\n",
        "    html_t = urllib.request.urlopen(url_p).read()\n",
        "    soup_t = BeautifulSoup(html_t)\n",
        "    # kill all script and style elements\n",
        "    for script in soup_t([\"script\", \"style\", 'aside', 'head']):\n",
        "        script.extract()    # rip it out\n",
        "    return soup_t.body.main\n",
        "\n",
        "def get_soup(url_p):\n",
        "    html_t = urllib.request.urlopen(url_p).read()\n",
        "    soup_t = BeautifulSoup(html_t)\n",
        "    # kill all script and style elements\n",
        "    for script in soup_t([\"script\", \"style\", 'aside', 'head']):\n",
        "        script.extract()    # rip it out\n",
        "    return soup_t\n"
      ],
      "execution_count": 0,
      "outputs": []
    },
    {
      "cell_type": "code",
      "metadata": {
        "id": "MWEYOYeIv77o",
        "colab_type": "code",
        "colab": {}
      },
      "source": [
        "url_list = 'https://www.whitehouse.gov/search/?s=Coronavirus+Task+Force&wpsolr_fq%5B0%5D=issue_str%3AHealthcare'\n",
        "base_url = 'https://www.whitehouse.gov'\n",
        "soup_l = get_soup(url_list)"
      ],
      "execution_count": 0,
      "outputs": []
    },
    {
      "cell_type": "code",
      "metadata": {
        "id": "X6KhIp5RxUu_",
        "colab_type": "code",
        "outputId": "ff57a519-a05d-48d0-d6f8-822546c449fb",
        "colab": {
          "base_uri": "https://localhost:8080/",
          "height": 1000
        }
      },
      "source": [
        "urls = []\n",
        "c_url = 'https://www.whitehouse.gov/search/?s=Coronavirus+Task+Force&wpsolr_fq%5B0%5D=issue_str%3AHealthcare'\n",
        "page_num = 0\n",
        "while True:\n",
        "    page_num+=1\n",
        "    soup_l = get_soup(c_url)\n",
        "    for s in soup_l.find_all('article'):\n",
        "        link = s.find(\"h2\", {'class': 'briefing-statement__title'})\n",
        "        if link is not None:\n",
        "            urls.append(link.a['href'])\n",
        "            # print(link.a['href'])\n",
        "    next = soup_l.find(\"a\", {'class':'pagination__next'})\n",
        "    # print(next)\n",
        "    if next is None:\n",
        "        break;\n",
        "    c_url = base_url + next.get('href')\n",
        "print('Number of pages parsed: %d'%(page_num))\n",
        "# print(urls[1])\n",
        "samples = list(map(lambda x: get_html_text(x).get_text().strip(), urls))"
      ],
      "execution_count": 0,
      "outputs": [
        {
          "output_type": "stream",
          "text": [
            "Number of pages parsed: 9\n",
            "Reading URL: https://www.whitehouse.gov/briefings-statements/readout-white-house-coronavrius-task-force-meeting/\n",
            "Reading URL: https://www.whitehouse.gov/briefings-statements/press-briefing-members-presidents-coronavirus-task-force/\n",
            "Reading URL: https://www.whitehouse.gov/briefings-statements/remarks-president-trump-members-coronavirus-task-force-press-briefing-3/\n",
            "Reading URL: https://www.whitehouse.gov/briefings-statements/remarks-president-trump-members-coronavirus-task-force-press-briefing-2/\n",
            "Reading URL: https://www.whitehouse.gov/briefings-statements/remarks-president-trump-members-coronavirus-task-force-press-briefing/\n",
            "Reading URL: https://www.whitehouse.gov/briefings-statements/remarks-president-trump-vice-president-pence-members-coronavirus-task-force-press-briefing-10/\n",
            "Reading URL: https://www.whitehouse.gov/briefings-statements/vice-president-pence-secretary-azar-add-key-administration-officials-coronavirus-task-force-2/\n",
            "Reading URL: https://www.whitehouse.gov/briefings-statements/press-briefing-vice-president-pence-members-white-house-coronavirus-task-force-3/\n",
            "Reading URL: https://www.whitehouse.gov/briefings-statements/press-briefing-vice-president-pence-members-white-house-coronavirus-task-force-2/\n",
            "Reading URL: https://www.whitehouse.gov/briefings-statements/press-briefing-vice-president-pence-members-white-house-coronavirus-task-force/\n",
            "Reading URL: https://www.whitehouse.gov/briefings-statements/white-house-coronavirus-task-force-announces-community-mitigation-strategies-seattle-santa-clara/\n",
            "Reading URL: https://www.whitehouse.gov/briefings-statements/press-briefing-vice-president-pence-members-coronavirus-task-force/\n",
            "Reading URL: https://www.whitehouse.gov/briefings-statements/vice-president-pence-secretary-azar-add-key-administration-officials-coronavirus-task-force-3/\n",
            "Reading URL: https://www.whitehouse.gov/briefings-statements/statement-press-secretary-regarding-presidents-coronavirus-task-force/\n",
            "Reading URL: https://www.whitehouse.gov/briefings-statements/remarks-president-trump-vice-president-pence-members-coronavirus-task-force-press-briefing-33/\n",
            "Reading URL: https://www.whitehouse.gov/briefings-statements/remarks-president-trump-vice-president-pence-members-coronavirus-task-force-press-briefing-32/\n",
            "Reading URL: https://www.whitehouse.gov/briefings-statements/remarks-president-trump-vice-president-pence-members-coronavirus-task-force-press-briefing-31/\n",
            "Reading URL: https://www.whitehouse.gov/briefings-statements/remarks-president-trump-vice-president-pence-members-coronavirus-task-force-press-briefing-30/\n",
            "Reading URL: https://www.whitehouse.gov/briefings-statements/remarks-president-trump-vice-president-pence-members-coronavirus-task-force-press-briefing-29/\n",
            "Reading URL: https://www.whitehouse.gov/briefings-statements/remarks-president-trump-vice-president-pence-members-coronavirus-task-force-press-briefing-28/\n",
            "Reading URL: https://www.whitehouse.gov/briefings-statements/remarks-president-trump-vice-president-pence-members-coronavirus-task-force-press-briefing-27/\n",
            "Reading URL: https://www.whitehouse.gov/briefings-statements/remarks-president-trump-vice-president-pence-members-coronavirus-task-force-press-briefing-26/\n",
            "Reading URL: https://www.whitehouse.gov/briefings-statements/remarks-president-trump-vice-president-pence-members-coronavirus-task-force-press-briefing-25/\n",
            "Reading URL: https://www.whitehouse.gov/briefings-statements/remarks-president-trump-vice-president-pence-members-coronavirus-task-force-press-briefing-24/\n",
            "Reading URL: https://www.whitehouse.gov/briefings-statements/remarks-president-trump-vice-president-pence-members-coronavirus-task-force-press-briefing-23/\n",
            "Reading URL: https://www.whitehouse.gov/briefings-statements/remarks-president-trump-vice-president-pence-members-coronavirus-task-force-press-briefing-22/\n",
            "Reading URL: https://www.whitehouse.gov/briefings-statements/remarks-president-trump-vice-president-pence-members-coronavirus-task-force-press-briefing-21/\n",
            "Reading URL: https://www.whitehouse.gov/briefings-statements/remarks-president-trump-vice-president-pence-members-coronavirus-task-force-press-briefing-20/\n",
            "Reading URL: https://www.whitehouse.gov/briefings-statements/remarks-president-trump-vice-president-pence-members-coronavirus-task-force-press-briefing-19/\n",
            "Reading URL: https://www.whitehouse.gov/briefings-statements/remarks-president-trump-vice-president-pence-members-coronavirus-task-force-press-briefing-18/\n",
            "Reading URL: https://www.whitehouse.gov/briefings-statements/remarks-president-trump-vice-president-pence-members-coronavirus-task-force-press-briefing-17/\n",
            "Reading URL: https://www.whitehouse.gov/briefings-statements/remarks-president-trump-vice-president-pence-members-coronavirus-task-force-press-briefing-16/\n",
            "Reading URL: https://www.whitehouse.gov/briefings-statements/remarks-president-trump-vice-president-pence-members-coronavirus-task-force-press-briefing-15/\n",
            "Reading URL: https://www.whitehouse.gov/briefings-statements/remarks-president-trump-vice-president-pence-members-coronavirus-task-force-press-briefing-14/\n",
            "Reading URL: https://www.whitehouse.gov/briefings-statements/remarks-president-trump-vice-president-pence-members-coronavirus-task-force-press-briefing-13/\n",
            "Reading URL: https://www.whitehouse.gov/briefings-statements/remarks-president-trump-vice-president-pence-members-coronavirus-task-force-press-briefing-12/\n",
            "Reading URL: https://www.whitehouse.gov/briefings-statements/remarks-president-trump-vice-president-pence-members-coronavirus-task-force-press-briefing-11/\n",
            "Reading URL: https://www.whitehouse.gov/briefings-statements/remarks-president-trump-vice-president-pence-members-coronavirus-task-force-press-briefing-9/\n",
            "Reading URL: https://www.whitehouse.gov/briefings-statements/remarks-president-trump-vice-president-pence-members-coronavirus-task-force-press-briefing-8/\n",
            "Reading URL: https://www.whitehouse.gov/briefings-statements/remarks-president-trump-vice-president-pence-members-coronavirus-task-force-press-briefing-7/\n",
            "Reading URL: https://www.whitehouse.gov/briefings-statements/remarks-president-trump-vice-president-pence-members-coronavirus-task-force-press-briefing-6/\n",
            "Reading URL: https://www.whitehouse.gov/briefings-statements/remarks-president-trump-vice-president-pence-members-coronavirus-task-force-press-briefing-5/\n",
            "Reading URL: https://www.whitehouse.gov/briefings-statements/remarks-president-trump-vice-president-pence-members-coronavirus-task-force-press-briefing-4/\n",
            "Reading URL: https://www.whitehouse.gov/briefings-statements/remarks-president-trump-vice-president-pence-members-coronavirus-task-force-press-briefing-3/\n",
            "Reading URL: https://www.whitehouse.gov/briefings-statements/remarks-president-trump-vice-president-pence-members-coronavirus-task-force-press-briefing-2/\n",
            "Reading URL: https://www.whitehouse.gov/briefings-statements/remarks-president-trump-vice-president-pence-members-coronavirus-task-force-press-briefing/\n",
            "Reading URL: https://www.whitehouse.gov/briefings-statements/remarks-president-trump-vice-president-pence-members-coronavirus-task-force-press-conference-3/\n",
            "Reading URL: https://www.whitehouse.gov/briefings-statements/remarks-president-trump-vice-president-pence-members-coronavirus-task-force-press-conference/\n",
            "Reading URL: https://www.whitehouse.gov/briefings-statements/remarks-president-trump-vice-president-pence-members-white-house-coronavirus-task-force-press-briefing/\n",
            "Reading URL: https://www.whitehouse.gov/briefings-statements/remarks-president-trump-vice-president-pence-members-coronavirus-task-force-press-conference-2/\n",
            "Reading URL: https://www.whitehouse.gov/briefings-statements/remarks-president-trump-vice-president-pence-members-c-oronavirus-task-force-press-briefing/\n",
            "Reading URL: https://www.whitehouse.gov/briefings-statements/remarks-president-trump-vice-president-pence-members-coronavirus-task-force-press-briefing-april-17-2020/\n",
            "Reading URL: https://www.whitehouse.gov/briefings-statements/remarks-president-trump-vice-president-pence-members-coronavirus-task-force-press-briefing-april-7-2020/\n",
            "Reading URL: https://www.whitehouse.gov/briefings-statements/remarks-president-trump-vice-president-pence-members-coronavirus-task-force-fox-news-virtual-town-hall/\n",
            "Reading URL: https://www.whitehouse.gov/briefings-statements/readout-vice-presidents-meeting-long-term-post-acute-palliative-care-provider-executives/\n",
            "Reading URL: https://www.whitehouse.gov/briefings-statements/readout-vice-presidents-discussion-nations-governors-covid-19-coordination-preparedness-2/\n",
            "Reading URL: https://www.whitehouse.gov/briefings-statements/remarks-vice-president-pence-video-teleconference-governors-partnership-prepare-mitigate-respond-covid-19/\n",
            "Reading URL: https://www.whitehouse.gov/briefings-statements/readout-vice-presidents-discussion-nations-governors-covid-19-coordination-preparedness/\n",
            "Reading URL: https://www.whitehouse.gov/briefings-statements/remarks-vice-president-pence-governor-inslee-roundtable-discussion-tacoma-wa/\n",
            "Reading URL: https://www.whitehouse.gov/briefings-statements/text-letter-vice-president-hospital-administrators/\n",
            "Reading URL: https://www.whitehouse.gov/briefings-statements/remarks-vice-president-pence-fox-news-virtual-town-hall/\n",
            "Reading URL: https://www.whitehouse.gov/briefings-statements/remarks-vice-president-pence-coronavirus-briefing-cruise-line-executives-port-directors-ft-lauderdale-fl/\n",
            "Reading URL: https://www.whitehouse.gov/briefings-statements/remarks-vice-president-pence-press-gaggle-9/\n",
            "Reading URL: https://www.whitehouse.gov/briefings-statements/remarks-vice-president-pence-coronavirus-briefing-diagnostic-lab-ceos/\n",
            "Reading URL: https://www.whitehouse.gov/briefings-statements/remarks-president-trump-vice-president-pence-coronavirus-briefing-airline-ceos/\n",
            "Reading URL: https://www.whitehouse.gov/briefings-statements/remarks-president-trump-vice-president-pence-briefing-nurses-covid-19-response/\n",
            "Reading URL: https://www.whitehouse.gov/briefings-statements/remarks-president-trump-protecting-americas-seniors/\n",
            "Reading URL: https://www.whitehouse.gov/briefings-statements/remarks-president-trump-vice-president-pence-video-teleconference-governors-covid-19/\n",
            "Reading URL: https://www.whitehouse.gov/briefings-statements/remarks-president-trump-announcement-remdesivir/\n",
            "Reading URL: https://www.whitehouse.gov/briefings-statements/remarks-president-trump-tour-centers-disease-control-prevention-atlanta-ga/\n",
            "Reading URL: https://www.whitehouse.gov/briefings-statements/press-briefing-senior-counselor-kellyanne-conway-ondcp-director-jim-carroll-assistant-secretary-public-health-adm-brett-giroir/\n",
            "Reading URL: https://www.whitehouse.gov/briefings-statements/remarks-president-trump-meeting-recovered-covid-19-patients/\n",
            "Reading URL: https://www.whitehouse.gov/briefings-statements/remarks-president-trump-signing-ceremony-h-r-266-paycheck-protection-program-health-care-enhancement-act/\n",
            "Reading URL: https://www.whitehouse.gov/briefings-statements/remarks-president-trump-signing-h-r-748-cares-act/\n",
            "Reading URL: https://www.whitehouse.gov/briefings-statements/remarks-president-trump-press-briefing/\n",
            "Reading URL: https://www.whitehouse.gov/briefings-statements/remarks-president-trump-meeting-governor-desantis-florida/\n"
          ],
          "name": "stdout"
        }
      ]
    },
    {
      "cell_type": "code",
      "metadata": {
        "id": "OErSpdT54gug",
        "colab_type": "code",
        "colab": {}
      },
      "source": [
        "#@markdown ### Enter a name for the file that would be used to save the extracted text to Google Drive:\n",
        "op_file = 'input2.txt' #@param {type: \"string\"}\n",
        "def save_text_gdrive(filename, samples):\n",
        "    with open('/content/drive/My Drive/%s' % (filename), 'w') as f:\n",
        "        for inp in samples:\n",
        "            f.write(inp + '\\n\\n')"
      ],
      "execution_count": 0,
      "outputs": []
    },
    {
      "cell_type": "markdown",
      "metadata": {
        "id": "HeeSKtNWUedE",
        "colab_type": "text"
      },
      "source": [
        "If your text file is larger than 10MB, it is recommended to upload that file to Google Drive first, then copy that file from Google Drive to the Colaboratory VM.  \n",
        "\n",
        "Now that you have saved the file to Google Drive, you can now use this file whenever you want for any other tasks too!  "
      ]
    },
    {
      "cell_type": "code",
      "metadata": {
        "id": "-Z6okFD8VKtS",
        "colab_type": "code",
        "outputId": "b2bca5e1-16d2-4fe4-fd8d-51798e00b7d1",
        "colab": {
          "base_uri": "https://localhost:8080/",
          "height": 324
        }
      },
      "source": [
        "#@markdown Enter the name of the file in google Drive for the text on which you want to train.\n",
        "file_name = 'input2.txt' #@param {type: \"string\"}\n",
        "gpt2.copy_file_from_gdrive(file_name)"
      ],
      "execution_count": 0,
      "outputs": [
        {
          "output_type": "error",
          "ename": "FileNotFoundError",
          "evalue": "ignored",
          "traceback": [
            "\u001b[0;31m---------------------------------------------------------------------------\u001b[0m",
            "\u001b[0;31mFileNotFoundError\u001b[0m                         Traceback (most recent call last)",
            "\u001b[0;32m<ipython-input-9-dde9680c7032>\u001b[0m in \u001b[0;36m<module>\u001b[0;34m()\u001b[0m\n\u001b[1;32m      1\u001b[0m \u001b[0mfile_name\u001b[0m \u001b[0;34m=\u001b[0m \u001b[0;34m'input2.txt'\u001b[0m \u001b[0;31m#@param {type: \"string\"}\u001b[0m\u001b[0;34m\u001b[0m\u001b[0;34m\u001b[0m\u001b[0m\n\u001b[0;32m----> 2\u001b[0;31m \u001b[0mgpt2\u001b[0m\u001b[0;34m.\u001b[0m\u001b[0mcopy_file_from_gdrive\u001b[0m\u001b[0;34m(\u001b[0m\u001b[0mfile_name\u001b[0m\u001b[0;34m)\u001b[0m\u001b[0;34m\u001b[0m\u001b[0;34m\u001b[0m\u001b[0m\n\u001b[0m",
            "\u001b[0;32m/usr/local/lib/python3.6/dist-packages/gpt_2_simple/gpt_2.py\u001b[0m in \u001b[0;36mcopy_file_from_gdrive\u001b[0;34m(file_path)\u001b[0m\n\u001b[1;32m    611\u001b[0m     \u001b[0mis_mounted\u001b[0m\u001b[0;34m(\u001b[0m\u001b[0;34m)\u001b[0m\u001b[0;34m\u001b[0m\u001b[0;34m\u001b[0m\u001b[0m\n\u001b[1;32m    612\u001b[0m \u001b[0;34m\u001b[0m\u001b[0m\n\u001b[0;32m--> 613\u001b[0;31m     \u001b[0mshutil\u001b[0m\u001b[0;34m.\u001b[0m\u001b[0mcopyfile\u001b[0m\u001b[0;34m(\u001b[0m\u001b[0;34m\"/content/drive/My Drive/\"\u001b[0m \u001b[0;34m+\u001b[0m \u001b[0mfile_path\u001b[0m\u001b[0;34m,\u001b[0m \u001b[0mfile_path\u001b[0m\u001b[0;34m)\u001b[0m\u001b[0;34m\u001b[0m\u001b[0;34m\u001b[0m\u001b[0m\n\u001b[0m\u001b[1;32m    614\u001b[0m \u001b[0;34m\u001b[0m\u001b[0m\n\u001b[1;32m    615\u001b[0m \u001b[0;34m\u001b[0m\u001b[0m\n",
            "\u001b[0;32m/usr/lib/python3.6/shutil.py\u001b[0m in \u001b[0;36mcopyfile\u001b[0;34m(src, dst, follow_symlinks)\u001b[0m\n\u001b[1;32m    118\u001b[0m         \u001b[0mos\u001b[0m\u001b[0;34m.\u001b[0m\u001b[0msymlink\u001b[0m\u001b[0;34m(\u001b[0m\u001b[0mos\u001b[0m\u001b[0;34m.\u001b[0m\u001b[0mreadlink\u001b[0m\u001b[0;34m(\u001b[0m\u001b[0msrc\u001b[0m\u001b[0;34m)\u001b[0m\u001b[0;34m,\u001b[0m \u001b[0mdst\u001b[0m\u001b[0;34m)\u001b[0m\u001b[0;34m\u001b[0m\u001b[0;34m\u001b[0m\u001b[0m\n\u001b[1;32m    119\u001b[0m     \u001b[0;32melse\u001b[0m\u001b[0;34m:\u001b[0m\u001b[0;34m\u001b[0m\u001b[0;34m\u001b[0m\u001b[0m\n\u001b[0;32m--> 120\u001b[0;31m         \u001b[0;32mwith\u001b[0m \u001b[0mopen\u001b[0m\u001b[0;34m(\u001b[0m\u001b[0msrc\u001b[0m\u001b[0;34m,\u001b[0m \u001b[0;34m'rb'\u001b[0m\u001b[0;34m)\u001b[0m \u001b[0;32mas\u001b[0m \u001b[0mfsrc\u001b[0m\u001b[0;34m:\u001b[0m\u001b[0;34m\u001b[0m\u001b[0;34m\u001b[0m\u001b[0m\n\u001b[0m\u001b[1;32m    121\u001b[0m             \u001b[0;32mwith\u001b[0m \u001b[0mopen\u001b[0m\u001b[0;34m(\u001b[0m\u001b[0mdst\u001b[0m\u001b[0;34m,\u001b[0m \u001b[0;34m'wb'\u001b[0m\u001b[0;34m)\u001b[0m \u001b[0;32mas\u001b[0m \u001b[0mfdst\u001b[0m\u001b[0;34m:\u001b[0m\u001b[0;34m\u001b[0m\u001b[0;34m\u001b[0m\u001b[0m\n\u001b[1;32m    122\u001b[0m                 \u001b[0mcopyfileobj\u001b[0m\u001b[0;34m(\u001b[0m\u001b[0mfsrc\u001b[0m\u001b[0;34m,\u001b[0m \u001b[0mfdst\u001b[0m\u001b[0;34m)\u001b[0m\u001b[0;34m\u001b[0m\u001b[0;34m\u001b[0m\u001b[0m\n",
            "\u001b[0;31mFileNotFoundError\u001b[0m: [Errno 2] No such file or directory: '/content/drive/My Drive/input2.txt'"
          ]
        }
      ]
    },
    {
      "cell_type": "markdown",
      "metadata": {
        "id": "LdpZQXknFNY3",
        "colab_type": "text"
      },
      "source": [
        "## Finetune GPT-2\n",
        "\n",
        "The next cell will start the actual finetuning of GPT-2. It creates a persistent TensorFlow session which stores the training config, then runs the training for the specified number of `steps`. (to have the finetuning run indefinitely, set `steps = -1`)\n",
        "\n",
        "The model checkpoints will be saved in `/checkpoint/run1` by default. The checkpoints are saved every 500 steps (can be changed) and when the cell is stopped.\n",
        "\n",
        "The training might time out after 4ish hours; make sure you end training and save the results so you don't lose them!\n",
        "\n",
        "**IMPORTANT NOTE:** If you want to rerun this cell, **restart the VM first** (Runtime -> Restart Runtime). You will need to rerun imports but not recopy files.\n",
        "\n",
        "Other optional-but-helpful parameters for `gpt2.finetune`:\n",
        "\n",
        "\n",
        "*  **`restore_from`**: Set to `fresh` to start training from the base GPT-2, or set to `latest` to restart training from an existing checkpoint.\n",
        "* **`sample_every`**: Number of steps to print example output\n",
        "* **`print_every`**: Number of steps to print training progress.\n",
        "* **`learning_rate`**:  Learning rate for the training. (default `1e-4`, can lower to `1e-5` if you have <1MB input data)\n",
        "*  **`run_name`**: subfolder within `checkpoint` to save the model. This is useful if you want to work with multiple models (will also need to specify  `run_name` when loading the model)\n",
        "* **`overwrite`**: Set to `True` if you want to continue finetuning an existing model (w/ `restore_from='latest'`) without creating duplicate copies. "
      ]
    },
    {
      "cell_type": "code",
      "metadata": {
        "id": "ex2TTTNzF6Zz",
        "colab_type": "code",
        "colab": {}
      },
      "source": [
        "#@markdown Give a name for your run. This will be used as a name to store all the intermediate text, mdoels and checkpoints.\n",
        "run_name = 'run1' #@param {type:\"string\"}"
      ],
      "execution_count": 0,
      "outputs": []
    },
    {
      "cell_type": "code",
      "metadata": {
        "id": "aeXshJM-Cuaf",
        "colab_type": "code",
        "outputId": "966a2404-d7b5-4798-c151-119f88327ee8",
        "colab": {
          "base_uri": "https://localhost:8080/",
          "height": 1000
        }
      },
      "source": [
        "sess = gpt2.start_tf_sess()\n",
        "\n",
        "gpt2.finetune(sess,\n",
        "              dataset=file_name,\n",
        "              model_name=model_name,\n",
        "              steps=1000,\n",
        "              restore_from='fresh',\n",
        "              run_name=run_name,\n",
        "              print_every=10,\n",
        "              sample_every=200,\n",
        "              save_every=500\n",
        "              )"
      ],
      "execution_count": 0,
      "outputs": [
        {
          "output_type": "stream",
          "text": [
            "WARNING:tensorflow:From /usr/local/lib/python3.6/dist-packages/gpt_2_simple/src/sample.py:17: where (from tensorflow.python.ops.array_ops) is deprecated and will be removed in a future version.\n",
            "Instructions for updating:\n",
            "Use tf.where in 2.0, which has the same broadcast rule as np.where\n",
            "WARNING:tensorflow:From /usr/local/lib/python3.6/dist-packages/gpt_2_simple/src/memory_saving_gradients.py:62: get_backward_walk_ops (from tensorflow.contrib.graph_editor.select) is deprecated and will be removed after 2019-06-06.\n",
            "Instructions for updating:\n",
            "Please use tensorflow.python.ops.op_selector.get_backward_walk_ops.\n",
            "Loading checkpoint models/355M/model.ckpt\n",
            "INFO:tensorflow:Restoring parameters from models/355M/model.ckpt\n"
          ],
          "name": "stdout"
        },
        {
          "output_type": "stream",
          "text": [
            "\r  0%|          | 0/1 [00:00<?, ?it/s]"
          ],
          "name": "stderr"
        },
        {
          "output_type": "stream",
          "text": [
            "Loading dataset...\n"
          ],
          "name": "stdout"
        },
        {
          "output_type": "stream",
          "text": [
            "100%|██████████| 1/1 [00:04<00:00,  4.90s/it]\n"
          ],
          "name": "stderr"
        },
        {
          "output_type": "stream",
          "text": [
            "dataset has 1113153 tokens\n",
            "Training...\n",
            "[10 | 30.61] loss=2.53 avg=2.53\n",
            "[20 | 52.48] loss=2.53 avg=2.53\n",
            "[30 | 74.37] loss=2.47 avg=2.51\n",
            "[40 | 96.29] loss=2.41 avg=2.48\n",
            "[50 | 118.17] loss=2.24 avg=2.43\n",
            "[60 | 140.12] loss=2.43 avg=2.43\n",
            "[70 | 162.11] loss=2.51 avg=2.44\n",
            "[80 | 184.12] loss=2.26 avg=2.42\n",
            "[90 | 206.18] loss=2.16 avg=2.39\n",
            "[100 | 228.24] loss=2.09 avg=2.36\n",
            "[110 | 250.31] loss=2.13 avg=2.34\n",
            "[120 | 272.36] loss=2.26 avg=2.33\n",
            "[130 | 294.36] loss=2.24 avg=2.32\n",
            "[140 | 316.42] loss=2.31 avg=2.32\n",
            "[150 | 338.44] loss=2.01 avg=2.30\n",
            "[160 | 360.47] loss=2.63 avg=2.32\n",
            "[170 | 382.51] loss=2.21 avg=2.31\n",
            "[180 | 404.54] loss=2.15 avg=2.30\n",
            "[190 | 426.60] loss=2.68 avg=2.33\n",
            "[200 | 448.64] loss=2.50 avg=2.34\n",
            "======== SAMPLE 1 ========\n",
            " it was so much fun.  It wasn’t as glamorous.  But it was a great experience.  A lot of people came out for it — like me, myself — and they wanted to be in the hotel like everybody else.  They wanted to be in.  The people wanted to have it.  A lot of people wanted to have it.  They wanted to have it, too.\n",
            "But the bottom line is “We have a major problem.  We know it.  We know it.”  They’ve told me.\n",
            "So I’d ask, “Hey, can we have some questions or any time for the president to talk to you?  You can’t have all the press conferences.  If we had a little bit more time, we would really get to the bottom of this.”  But it really didn’t have that amount of time.  And I know it.  If we would have had a lot more time, I would have done a better job.  But let me just say — when you do the statistics, it’s a pretty great story.  But it really wasn’t that kind of time, man.\n",
            "And there’s no question it would have been worse.  But this was — we did get a lot of things wrong, at least on the surface, in terms of testing, testing results, and overall testing — which was one of our biggest strengths.\n",
            "Q    How long did it take you to know that?\n",
            "THE PRESIDENT:  When you have a problem, you’re going to have some kind of answer.  But I think there’s only two ways to think of it.  If it doesn’t work, it’s going to work.  If it does work, it’s going to work.  But we were able to get it working.\n",
            "Q    How long did that take you to know that the whole thing was an issue?\n",
            "THE PRESIDENT:  Well, we were able to do it very quickly.  We got it going very quickly.\n",
            "Q    How long did that take you to think about that?\n",
            "THE PRESIDENT:  Well, we’ve got a lot of money and resources at our country and we’ve got — in terms of testing, we could have done it much earlier.  And a lot of people had been saying for a long time that it wouldn’t work.  The whole thing was very — very complicated, in so many different ways.  But we was able to get it to work very quickly.\n",
            "Q    So did it take you less than 40 days to think it wasn’t working, as the other people have said?\n",
            "THE PRESIDENT:  It took me less than three days.\n",
            "Q    Mr. President, when you first announced the Ebola virus in the fall of 2014, people were worried about, “It wasn’t working.** It was bad.\n",
            "THE PRESIDENT:  Well, it’s going for us.\n",
            "Q    What is it with that?  When you talk about people going crazy and running around in a mad, screaming, violent frenzy.\n",
            "THE PRESIDENT:  We’re watching.  We have a lot of people that are crazy about it.  I think it’s going on for a very long long time.  It’s a serious problem.  We really have a very good situation here.\n",
            "Q    Will you say publicly that you’ve changed your mind after now?\n",
            "Q    That would indicate there were some good changes that you could have made, even going forward.  What have you done that you think could have been done to make them better?\n",
            "THE PRESIDENT:  Well, we could have done a lot of things.  We didn’t want to start over again.  We didn’t want to start over again.\n",
            "Q    Why didn’t you say that publicly?\n",
            "THE PRESIDENT:  Well, everybody knows that — everybody knows — that we had some bad things happen.  We would have never ever thought about it.  We’ve had a lot of bad things.  We — you know, the other side of things, too.  But I wish we had a lot more information.  We could have been much sooner.  But we didn’t want to begin over again.\n",
            "Q    Will you say publicly now that you believe all sides are to blame, or will you say publicly in other ways?  Are your feelings towards Americans, in this country, still hurt?\n",
            "THE PRESIDENT:  We don’t want to start over.  We don’t want to start over.  We wanted to start over.  We know we could have done things much sooner.  We could have done\n",
            "\n",
            "[210 | 501.11] loss=2.44 avg=2.34\n",
            "[220 | 523.18] loss=2.37 avg=2.34\n",
            "[230 | 545.28] loss=2.26 avg=2.34\n",
            "[240 | 567.34] loss=2.40 avg=2.34\n",
            "[250 | 589.42] loss=2.14 avg=2.33\n",
            "[260 | 611.50] loss=1.88 avg=2.31\n",
            "[270 | 633.54] loss=2.16 avg=2.31\n",
            "[280 | 655.61] loss=2.47 avg=2.31\n",
            "[290 | 677.69] loss=2.17 avg=2.31\n",
            "[300 | 699.79] loss=2.56 avg=2.32\n",
            "[310 | 721.89] loss=2.35 avg=2.32\n",
            "[320 | 743.98] loss=2.29 avg=2.32\n",
            "[330 | 766.08] loss=2.26 avg=2.32\n",
            "[340 | 788.17] loss=2.26 avg=2.31\n",
            "[350 | 810.27] loss=2.07 avg=2.30\n",
            "[360 | 832.36] loss=2.14 avg=2.30\n",
            "[370 | 854.43] loss=2.10 avg=2.29\n",
            "[380 | 876.52] loss=2.12 avg=2.29\n",
            "[390 | 898.60] loss=2.00 avg=2.28\n",
            "[400 | 920.69] loss=2.02 avg=2.27\n",
            "======== SAMPLE 1 ========\n",
            "So, I appreciate the conversation, Mr. Vice President.\n",
            "THE PRESIDENT:  Thank you.  Yeah, that was an excellent response.  Great job, Steve.\n",
            "THE VICE PRESIDENT:  Thank you, Mr. President.\n",
            "Q    Mr. Vice President, on your travel restrictions for —\n",
            "THE VICE PRESIDENT:  I don’t know the answer to that, Steve.  I can tell you, I’m not even sure that this is something that we’ll get into because we’re trying to set out rules.\n",
            "But for American citizens, we’re doing a lot to get our economy going.  There’s a backlog — like, probably the worst we’ve ever seen in our country — an insane backlog for anything.  But what we’re doing is we’re asking Americans to — to stay at home.\n",
            "And we will say, “Please, come to your boss” for the CDC in New York and come to FEMA all over the country, Mr. Governor.  FEMA just sent out an advisory that said, “We’ll need your help.”\n",
            "Please — please, tell people at home: Get to work.  It is taking much longer than you thought it would.  It’s a good call.\n",
            "Go figure.\n",
            "Q    Does this give you comfort to you?\n",
            "THE VICE PRESIDENT:  Well, I know what you mean by “going to go home.”\n",
            "But my advice is stay home.  If you’re traveling internationally to places where we have high rates of — the kind of high — and especially at a time of year like this, you’d be —\n",
            "Q    I�ll get a different answer, Mr. Vice President — in terms of advice to Americans.\n",
            "THE VICE PRESIDENT:  — you’re absolutely correct.\n",
            "Q    — you would suggest not travelling while overseas?\n",
            "THE VICE PRESIDENT:  I’m going to leave that to — just so you understand.  And I just want to be clear: The United States does not take any pleasure, ever, when others travel without permits and we catch them before they even can get across the border.  We’re really looking forward to the fact that when you go over into Canada or Europe or wherever —\n",
            "THE VICE PRESIDENT:  But, all right.\n",
            "Q    — which we’re not taking no pleasure in too much either.\n",
            "THE VICE PRESIDENT:  — our shores, it’s — it’s a big — it’s a big deal.  We’re going to make it very good.\n",
            "So we’re going to do a great vetting, a high vetting — just like our — our border in the back.  And we want to keep — keep our borders, folks.\n",
            "Please.\n",
            "Q    But, but if — if that’s — if that’s the argument — so, you’re making that very easy for American citizens just because you’re taking away visas.\n",
            "THE VICE PRESIDENT:  We don’t want it as a suggestion.  We want — you know, it’s our first homeland and our first state, and then obviously our first homeland for a long time.\n",
            "But, you know, we’ve done — over the last 20 years, we’ve had a very good understanding of our borders, because that’s part of what Donald Trump said in this room today.  We’re trying to be very smart too.  But when we come over into countries, there are always people coming out of these countries that need a visa or they don’t know where they can go.\n",
            "But we want our borders, but we also have the right to be very bold.  And we want the government to see that we’re following our borders, and when we come over into certain territory, we don’t want the government to be following that law.  And as the President and we have seen over the last week or so, we’re taking great care not to be on their radar.  But at this point, it’s — it’s, really, a very common-sense, really thoughtful, very good idea to do the best you can.  But it is very important to get the visas, because we can use them for a lot of things, but also for our border —\n",
            "THE VICE PRESIDENT:  Just so you understand.  We’re going to make sure, on the border, that people can’t go.  I’ll do a little bit more than that because I wanted to — I was just repeating over my teleprompter.  But a little bit more than that.  But they do have the option of going.\n",
            "\n",
            "[410 | 971.08] loss=2.24 avg=2.27\n",
            "[420 | 993.20] loss=2.07 avg=2.26\n",
            "[430 | 1015.30] loss=2.00 avg=2.26\n",
            "[440 | 1037.40] loss=2.24 avg=2.26\n",
            "[450 | 1059.52] loss=2.01 avg=2.25\n",
            "[460 | 1081.64] loss=2.38 avg=2.25\n",
            "[470 | 1103.72] loss=2.42 avg=2.26\n",
            "[480 | 1125.83] loss=1.74 avg=2.24\n",
            "[490 | 1147.93] loss=2.52 avg=2.25\n",
            "[500 | 1170.04] loss=1.69 avg=2.24\n",
            "Saving checkpoint/run1/model-500\n",
            "[510 | 1199.76] loss=2.63 avg=2.25\n",
            "[520 | 1221.90] loss=2.25 avg=2.25\n",
            "[530 | 1244.00] loss=1.99 avg=2.24\n",
            "[540 | 1266.11] loss=2.30 avg=2.24\n",
            "[550 | 1288.18] loss=2.01 avg=2.24\n",
            "[560 | 1310.28] loss=2.12 avg=2.23\n",
            "[570 | 1332.38] loss=1.78 avg=2.22\n",
            "[580 | 1354.47] loss=2.32 avg=2.23\n",
            "[590 | 1376.57] loss=2.38 avg=2.23\n",
            "[600 | 1398.67] loss=2.13 avg=2.23\n",
            "======== SAMPLE 1 ========\n",
            " the right way for the American people.\n",
            "Please.  Thank you.  It was great meeting with the President, the Vice President and many members of the national security team.  And as this morning approached, we also began, as the President just declared — the task force reached a tremendous and historic agreement to provide $40 billion in direct payments to the American people.\n",
            "Today, I am announcing a new administration initiative to begin to build on our bipartisan history of bipartisan cooperation in order to unleash our economic powers and unleash the American spirit.  It will also be important to note, as is often the case, that the program will provide direct payments to all Americans.\n",
            "Under this program, the President has authorized a direct payment — direct cash payment.  At the President’s direction, this is the first phase of something we will continue to execute with our great team.\n",
            "In the months ahead, we’re going to continue to build our vast economic capacities and we’ll build our nation, while meeting the greatest challenges the globe can throw at the United States — from the pandemic — the plague — the coronavirus — and, of course, with the war on the virus itself, which will end over time.  But that’d be a little bit of a change — the first phase, of course.\n",
            "As our nation moves forward, the President will be continuing to make more economic deals through these programs than the CEOs of major companies ever have done, and we’re going to continue to give the people what they deserve from them.\n",
            "As I’m going to ask every business leader in the administration to review our budget for a short period of time, I’ll let them, to present it to the American people, and then I’ll ask Treasury Secretary Mnuchin to present it as well.\n",
            "That’ll be the last budget presentation.  And I will say that — that there’s a strong case to be made to both sides that the president is bringing together America’s diverse economic communities in a way that’s very important.\n",
            "We’re talking about more than just an energy deal because of what we’ve done in this country.  We have a whole different message here.  The people will recognize it.  You are going to start to see a lot and a lot of things happening over the next few weeks that, frankly, we never thought they could be in a position that they are.  And we certainly didn’t want this.\n",
            "The truth is, and everyone who’s going to get in touch with the American people is going to see that, as we do with the economic stimulus and whatever the next financial package may be.\n",
            "The reality — and the reality is that America has always — from the very beginning it was called “America.  America.  It had to be America.”\n",
            "So, as the President said today, this is a really historic moment.  And it’s about saving American jobs, it’s about saving American health, it’s about saving our nation.  And with that, I’ll ask the — I’ll ask the Treasury Secretary to introduce the budget because the next budget is not coming, and I would think it’s absolutely essential we get this done.\n",
            "But I think you know that the American people — I think they’re about ready to get into full speed ahead.\n",
            "Now, I have to tell you, with all of that being said, I want to ask every member of the White House team to come to the podium and I want the members of the Senate to come to the podium.  There are some — people, I know, on the other side of the aisle, I see people that want to give this thing away, and some just want to help.\n",
            "I really hope they come to it.  We need the help.  We need the help.  But this is about saving American jobs.  And it’ll take a lot of guts to do that.\n",
            "As the number of American deaths continues to mount — the fact that we have a nation that has lost 50, and it’s only counting the very active ones — it really shows you how big the problem is in America.  All of us have a part to play, and we all need to lead.\n",
            "But as we keep doing, we can’t let the virus, the coronavirus, and all of the things it does to people get out of hand.  So we have to have an effective partnership between the President, our team in the White House, and I- — and with the full powers of the federal government.\n",
            "THE VICE PRESIDENT:  Well, we’re going to be discussing that.  I’m going to be with the team.  And I think the President can get it done.\n",
            "And the\n",
            "\n",
            "[610 | 1449.11] loss=1.69 avg=2.22\n",
            "[620 | 1471.24] loss=2.08 avg=2.21\n",
            "[630 | 1493.34] loss=2.22 avg=2.21\n",
            "[640 | 1515.48] loss=1.58 avg=2.20\n",
            "[650 | 1537.58] loss=2.32 avg=2.20\n",
            "[660 | 1559.72] loss=1.98 avg=2.20\n",
            "[670 | 1581.83] loss=1.85 avg=2.19\n",
            "[680 | 1603.95] loss=2.71 avg=2.20\n",
            "[690 | 1626.06] loss=2.44 avg=2.21\n",
            "[700 | 1648.20] loss=2.16 avg=2.20\n",
            "[710 | 1670.31] loss=1.81 avg=2.20\n",
            "[720 | 1692.45] loss=1.98 avg=2.19\n",
            "[730 | 1714.59] loss=1.95 avg=2.19\n",
            "[740 | 1736.73] loss=2.29 avg=2.19\n",
            "[750 | 1758.86] loss=2.02 avg=2.19\n",
            "[760 | 1780.98] loss=2.40 avg=2.19\n",
            "[770 | 1803.14] loss=2.39 avg=2.19\n",
            "[780 | 1825.30] loss=2.06 avg=2.19\n",
            "[790 | 1847.44] loss=1.71 avg=2.18\n",
            "[800 | 1869.57] loss=2.50 avg=2.19\n",
            "======== SAMPLE 1 ========\n",
            " improve the quality of care.  But I want them to know that all of my efforts, while I am with the FDA right now, will not stop with that process for coronavirus.  But we will continue to work to make it more secure, safer and easier to use the tools of state-of-the-art testing.\n",
            "Today we made the announcement that we are working with governors in New York, New Jersey — New York, New Jersey — New York, New Jersey — New York, New Jersey — and New Orleans — New Orleans.  But they’re doing their best to solve their problems.  And that’ll be helpful as we move forward.\n",
            "As we move forward with the federal government’s support — a partnership with states across the country, the federal government’s funding of testing that is critical to getting the most people to treatment has increased significantly.  At the President’s direction, we are going to continue to expand and enhance this support.  As we move forward, more resources will be created to support states and local health officials — to make our medical community even more responsive to the needs of patients to help us meet the challenges we’re facing.\n",
            "And I just say, at the President’s directions, we’re going to support the efforts of every governor.\n",
            "With that said, I’d like to invite Dr. Deborah Birx.  Dr. Birx?\n",
            "DR. BIRX:  Thank you, Mr. President, Mr. Vice President, Mr. Vice Minister, and Mr. Vice President.  I appreciate the opportunity to be at the forefront of what Dr. Birx and I are seeing and to be of the advice and the support to our patients.  What is happening today is not something I’m familiar with, but it is happening to a lot of patients, to health systems, to health systems across the country.\n",
            "We are also at that new standard that we have had to develop every day, and that is, the President and the Vice President spoke so well about over the last several days, and that’s being really, really hard to achieve, because of the way hospitals and health systems work and the way the system works.  I am personally not happy with that because that’s what “15 Days to Slow the Spread” means.  You will always have a number of patients and health systems out there who are sick, but that’s the current situation, and we want to be more aggressive and more proactive to prevent spread.\n",
            "And I’d like to encourage all the states to make sure that their hospitals remain active and ready to respond to any challenges.  We’ve worked with the state health authorities to be more responsive, to make more information to patients available.  And with the new regulations and standards on CDC recommendations, we’re going to be implementing that information with you as individuals in the medical community, as well.\n",
            "The health professionals who are working directly on and with individuals, and all our healthcare professionals who are at the front.\n",
            "THE VICE PRESIDENT:  And thank you, Deborah.\n",
            "THE PRESIDENT:  And thank you, Deborah.\n",
            "DR. BIRX:  Yeah.  Thank you, Mr. President, Mr. Vice President, and thank you, Deborah.\n",
            "THE PRESIDENT:  Thank you, Deborah.  And thank you, Deborah!\n",
            "MR. MUNOZ:  A great pleasure to be here with Doctor Ben.  Dr. Ben?\n",
            "ADMINISTRATOR BENJAMIN:  Thank you, Mr.  President, Mr.  Vice President.\n",
            "THE PRESIDENT:  Good.\n",
            "MR. MUNOZ:  Dr. Ben?\n",
            "THE PRESIDENT:  Good.  You — you must stop the presses for a minute there.  Do you want to speak to a different point or not?\n",
            "DR. FAUCI:  Sure.  How is the state of Connecticut doing with their testing, sir?\n",
            "THE PRESIDENT:  Very good.  Very good.  Very good, Doctor.\n",
            "DR. MUNOZ:  We’re actually doing well.  Okay?\n",
            "THE PRESIDENT:  We’re doing — really, they’ve done very well with their testing.  Look, they’re testing a lot more people in general and younger people, and they’re testing people that we think would have a problem.  But they’re getting a lot of the people in that — older, sick, young people.  And now they’re coming from a high blood pressure.\n",
            "We’ve developed guidelines to stop people that are pregnant and have high blood pressure when they get to the point where we need to be: to stop them from taking their blood pressure medication and take their blood pressure medication, and not to take their blood pressure\n",
            "\n",
            "[810 | 1920.02] loss=1.32 avg=2.17\n",
            "[820 | 1942.16] loss=2.73 avg=2.18\n",
            "[830 | 1964.34] loss=1.42 avg=2.17\n",
            "[840 | 1986.44] loss=1.60 avg=2.16\n",
            "[850 | 2008.55] loss=1.82 avg=2.15\n",
            "[860 | 2030.71] loss=2.08 avg=2.15\n",
            "[870 | 2052.86] loss=2.25 avg=2.15\n",
            "[880 | 2074.97] loss=2.50 avg=2.16\n",
            "[890 | 2097.13] loss=2.31 avg=2.16\n",
            "[900 | 2119.29] loss=2.31 avg=2.17\n",
            "[910 | 2141.39] loss=1.82 avg=2.16\n",
            "[920 | 2163.53] loss=2.10 avg=2.16\n",
            "[930 | 2185.62] loss=2.31 avg=2.16\n",
            "[940 | 2207.76] loss=1.98 avg=2.16\n",
            "[950 | 2229.92] loss=2.40 avg=2.16\n",
            "[960 | 2252.05] loss=1.31 avg=2.15\n",
            "[970 | 2274.19] loss=2.34 avg=2.15\n",
            "[980 | 2296.32] loss=1.79 avg=2.15\n",
            "[990 | 2318.45] loss=1.63 avg=2.14\n",
            "[1000 | 2340.57] loss=2.17 avg=2.14\n",
            "Saving checkpoint/run1/model-1000\n",
            "WARNING:tensorflow:From /tensorflow-1.15.2/python3.6/tensorflow_core/python/training/saver.py:963: remove_checkpoint (from tensorflow.python.training.checkpoint_management) is deprecated and will be removed in a future version.\n",
            "Instructions for updating:\n",
            "Use standard file APIs to delete files with this prefix.\n"
          ],
          "name": "stdout"
        }
      ]
    },
    {
      "cell_type": "markdown",
      "metadata": {
        "id": "IXSuTNERaw6K",
        "colab_type": "text"
      },
      "source": [
        "After the model is trained, you can copy the checkpoint folder to your own Google Drive.\n",
        "\n",
        "If you want to download it to your personal computer, it's strongly recommended you copy it there first, then download from Google Drive. The checkpoint folder is copied as a `.rar` compressed file; you can download it and uncompress it locally."
      ]
    },
    {
      "cell_type": "code",
      "metadata": {
        "id": "VHdTL8NDbAh3",
        "colab_type": "code",
        "colab": {}
      },
      "source": [
        "gpt2.copy_checkpoint_to_gdrive(run_name=run_name)"
      ],
      "execution_count": 0,
      "outputs": []
    },
    {
      "cell_type": "markdown",
      "metadata": {
        "id": "qQJgV_b4bmzd",
        "colab_type": "text"
      },
      "source": [
        "You're done! Feel free to go to the **Generate Text From The Trained Model** section to generate text based on your retrained model."
      ]
    },
    {
      "cell_type": "markdown",
      "metadata": {
        "id": "pel-uBULXO2L",
        "colab_type": "text"
      },
      "source": [
        "## Load a Trained Model Checkpoint\n",
        "\n",
        "Running the next cell will copy the `.rar` checkpoint file from your Google Drive into the Colaboratory VM."
      ]
    },
    {
      "cell_type": "code",
      "metadata": {
        "id": "4JfOoUGsGb0A",
        "colab_type": "code",
        "colab": {}
      },
      "source": [
        "#@markdown Add the name of the run which you stored on to your Google Drive after running the above set of cells.\n",
        "#@markdown **PS** if you have run the training part of the section above, you do not have to run this cell!  \n",
        "run_name = run_name #@param {type: \"string\"}"
      ],
      "execution_count": 0,
      "outputs": []
    },
    {
      "cell_type": "code",
      "metadata": {
        "id": "DCcx5u7sbPTD",
        "colab_type": "code",
        "colab": {}
      },
      "source": [
        "gpt2.copy_checkpoint_from_gdrive(run_name=run_name)"
      ],
      "execution_count": 0,
      "outputs": []
    },
    {
      "cell_type": "markdown",
      "metadata": {
        "id": "RTa6zf3e_9gV",
        "colab_type": "text"
      },
      "source": [
        "The next cell will allow you to load the retrained model checkpoint + metadata necessary to generate text.\n",
        "\n",
        "**IMPORTANT NOTE:** If you want to rerun this cell, **restart the VM first** (Runtime -> Restart Runtime). You will need to rerun imports but not recopy files."
      ]
    },
    {
      "cell_type": "code",
      "metadata": {
        "id": "-fxL77nvAMAX",
        "colab_type": "code",
        "outputId": "64d56172-d15b-4602-c507-d68af5b26965",
        "colab": {
          "base_uri": "https://localhost:8080/",
          "height": 51
        }
      },
      "source": [
        "sess = gpt2.start_tf_sess()\n",
        "gpt2.load_gpt2(sess, run_name=run_name)"
      ],
      "execution_count": 0,
      "outputs": [
        {
          "output_type": "stream",
          "text": [
            "Loading checkpoint checkpoint/run1/model-1000\n",
            "INFO:tensorflow:Restoring parameters from checkpoint/run1/model-1000\n"
          ],
          "name": "stdout"
        }
      ]
    },
    {
      "cell_type": "markdown",
      "metadata": {
        "id": "ClJwpF_ACONp",
        "colab_type": "text"
      },
      "source": [
        "## Generate Text From The Trained Model\n",
        "\n",
        "After you've trained the model or loaded a retrained model from checkpoint, you can now generate text. `generate` generates a single text from the loaded model."
      ]
    },
    {
      "cell_type": "code",
      "metadata": {
        "id": "4RNY6RBI9LmL",
        "colab_type": "code",
        "outputId": "9ea1afba-4f76-42e2-a1cf-55408803a183",
        "colab": {
          "base_uri": "https://localhost:8080/",
          "height": 309
        }
      },
      "source": [
        "gpt2.generate(sess, run_name=run_name)"
      ],
      "execution_count": 0,
      "outputs": [
        {
          "output_type": "stream",
          "text": [
            "The United Nations has been working very hard.  They’ve been working for a long time, as you know.  We’re now at a point where we have to call off the assembly, which unfortunately took place this morning.  We’ll be doing it in the future.\n",
            "The United Nations has been doing excellent work.  They’ve been talking about everything.\n",
            "In the House, they’ve had a lot to say.  They’ve had a lot of discussion.  There’s a lot of people talking to each other.  There’s a lot of people that are really getting together, and they’re talking about things that are very important.\n",
            "We have a great relationship with China.  They had a very short period of time ago.  We’ve had a very good relationship.  We’re making a lot of progress there.  And they’ve been — in exchange for allowing us to do this, we’re going to be bringing our ships back to Guam and our air bridge back into the United States.\n",
            "I just spoke to President Xi.  I had a very good talk with the President of China.  It was a long talk.  And I’m reviewing with the President the details of the cost of the trip.  It’s going to be very inexpensive.  It’s going to be a long flight.  It’s going to be a journey of many, many days and weeks and months.  It’s going to be a long trip.  It’s going to be a long journey.\n",
            "In many ways, China has been strong.  China has been a force.  They’ve been a force at the United Nations.  You would not have believed it.  And with the United Nations, China is spending $2 million a year.  We’re spending less than that.  We’re spending far less than that.  We’re the world leader.\n",
            "I spoke to President Xi again today.  He’s — we talked about China.  I’m going to be a great friend of China.  I’m going to be the world leader.  And China is spending less than we’re spending on our military.  And we’re paying for that.  We’re paying for that.\n",
            "As you know, Mr. President and Mr. Vice President, we’re paying for healthcare.  We’re paying for military.  We’re paying for things that we’ve never had.  And we’re working very well with China.  They’re working very well.  And we’re also, as the President said, sending letters of assistance to a number of countries.\n",
            "The United Nations — we have a very powerful United Nations.  They’ve done a great job.  I’m going to be the UN's first U.N. Ambassador.  Very soon.  I’m going to be the UN Ambassador to China.  We’re sending the biggest military people anywhere in the world — to China.  They’re sending them to China — and we’re — we’re working very well with China.\n",
            "We just signed an agreement to build a military hospital in the Philippines.  It’s about 120 hospitals.  I said, “I’ll be the U.N. ambassador to China.”  It’s going to be — it’s going to be a very big hospital.  The hospital is going to be built to take care of the surge of people that are coming in from China.  I’m going to be the U.N. Ambassador to China.  And that’s going to be a big deal.\n",
            "The deal is very exciting.  It’s going to be a very big hospital in the Philippines, which is going to be a big hospital.\n",
            "And this is why President Xi is going to be very happy and very soon.\n",
            "THE VICE PRESIDENT:  And, Doctor, ask your question, if you would.\n",
            "DR. FAUCI:  Yeah, so, as you know, the United States has been hit by many — many diseases.  I think that the most recent case of coronavirus was a particularly tragic one for the nation.\n",
            "As I mentioned, the United States is at a point where we’ve reached the point where we can not be infected by someone who is infected from abroad.  So I think that figure is going to be the most — the most likely one.  And so the task force is going to look at that question.\n",
            "And it is a very important question.  So, we’\n"
          ],
          "name": "stdout"
        }
      ]
    },
    {
      "cell_type": "markdown",
      "metadata": {
        "id": "oF4-PqF0Fl7R",
        "colab_type": "text"
      },
      "source": [
        "If you're creating an API based on your model and need to pass the generated text elsewhere, you can do `text = gpt2.generate(sess, return_as_list=True)[0]`\n",
        "\n",
        "You can also pass in a `prefix` to the generate function to force the text to start with a given character sequence and generate text from there (good if you add an indicator when the text starts).\n",
        "\n",
        "You can also generate multiple texts at a time by specifing `nsamples`. Unique to GPT-2, you can pass a `batch_size` to generate multiple samples in parallel, giving a massive speedup (in Colaboratory, set a maximum of 20 for `batch_size`).\n",
        "\n",
        "Other optional-but-helpful parameters for `gpt2.generate` and friends:\n",
        "\n",
        "*  **`length`**: Number of tokens to generate (default 1023, the maximum)\n",
        "* **`temperature`**: The higher the temperature, the crazier the text (default 0.7, recommended to keep between 0.7 and 1.0)\n",
        "* **`top_k`**: Limits the generated guesses to the top *k* guesses (default 0 which disables the behavior; if the generated output is super crazy, you may want to set `top_k=40`)\n",
        "* **`top_p`**: Nucleus sampling: limits the generated guesses to a cumulative probability. (gets good results on a dataset with `top_p=0.9`)\n",
        "* **`truncate`**: Truncates the input text until a given sequence, excluding that sequence (e.g. if `truncate='<|endoftext|>'`, the returned text will include everything before the first `<|endoftext|>`). It may be useful to combine this with a smaller `length` if the input texts are short.\n",
        "*  **`include_prefix`**: If using `truncate` and `include_prefix=False`, the specified `prefix` will not be included in the returned text."
      ]
    },
    {
      "cell_type": "code",
      "metadata": {
        "id": "8DKMc0fiej4N",
        "colab_type": "code",
        "outputId": "afff6f36-904a-4a5f-82cc-a1ed7b233afa",
        "colab": {
          "base_uri": "https://localhost:8080/",
          "height": 1000
        }
      },
      "source": [
        "#@markdown Here, change the prefic to whatever you like, I have kept this so that it generates something like the press house briefings! It is a good experiment to try removing it completely and seeing what you get 😊\n",
        "gpt2.generate(sess,\n",
        "              length=1023,\n",
        "              temperature=0.7,\n",
        "              prefix=\"Q  Mr. President,\",\n",
        "              nsamples=5\n",
        "            #   batch_size=2\n",
        "              )"
      ],
      "execution_count": 0,
      "outputs": [
        {
          "output_type": "stream",
          "text": [
            "Q  Mr. President, 24 states — 24 states — in addition to New York and 34 before — reported 100 or more test positive for coronavirus.  Around 1,200 of those — 34 — are already home.  Can you reassure Americans that those are clean settings and that the coronavirus is going to be contained?\n",
            "THE PRESIDENT:  So, when Governor Cuomo was saying in the last time we were here — and I can assure you, Chris, governors across the country, including governor Chin, saying, �We’ve had 100 or more tests.  We’ve had no cases.  This is like — you know, we hope it’s going to go away.  But it’s going to come back because we had a great testing system.  We had more than enough testing to go — as many as we could.  And then we moved over to more — we moved over to —\n",
            "Q    And when did you make the decision to go on a nationwide exclusion?\n",
            "THE PRESIDENT:  — statewide exclusion?\n",
            "Q    No, no, not nationwide exclusion.  I mean, the states didn’t know the virus existed.  And the CDC — and I’m sure you know, Brennan also — actually EPA has been talking about the country being safe in the United States and the need for that to be maintained for many years now.\n",
            "THE PRESIDENT:  Yeah.\n",
            "Q    But you’re the President, you — you know, and the health issue in the country is paramount.  So before you talked about the federal government stepping into that and storming federal laboratories —\n",
            "THE PRESIDENT:  Sure, that’s what you’re talking about.\n",
            "Q    — in both New York and New Jersey, being tested.\n",
            "THE PRESIDENT:  And—\n",
            "Q    And then, as I said, it’s —\n",
            "THE PRESIDENT:  If, in fact, they do, we’ll —\n",
            "Q    But we haven’t seen that with this virus.\n",
            "THE PRESIDENT:  — Dr. Fauci, I believe, has said that if we were to move to more of a statewide ban — it’s a survey program.  I mean, we have to find out.  And what this does is it just asks you to come into these specific conditions.  If you want to go to — I mean, if you want to go to LEED — if you want to go to LEED, go ahead.  And you don’t have to do — people know that’s a highly rated building in New York.  But if you want to go to LEED — maybe go to a different one.  But that means that a lot of people go to LEED — a building that’s highly rated, highly ranked.  It’s a high-rise building.  I have to speak to it.  But I’m talking about it.  And if I say, “Do you want to go inside?”  A lot of people go inside.  And we want to do that with you.\n",
            "I’ve condemned people in the past for doing the same thing.  You know, you go to — Dean, I’m talking about — and they do the same thing at the state level and at the county level.  And they make a decision.  They just — they make a decision.  It’s a big change.\n",
            "I could — I could say, you know — don’t go to New York because it’s safe.  Do you have a choice?  If you do, don’t go to New York.  It’s safe.  But if you do, better — safer.  But don’t do that.\n",
            "Q    Mr. President —\n",
            "THE PRESIDENT:  Go ahead.  Deb, please.\n",
            "Q    Wait.\n",
            "THE PRESIDENT:  Don’t be too long.  Deb, please.\n",
            "DR. REDFIELD:  John, the — the notion of — and I know you were looking at — that there’s a great deal of concern about reopening the economy is — to you, that sounds — it sounds like a very frightening prospect, but to me it sounds like something that could have real merit.  To me, it’s not when you look at the economic opportunities that are available, it’s when you look at the opportunity to do something that’s not as traumatic — like you mentioned, in shutting down the economy.\n",
            "And I just want to clear a couple of — a couple of things up, please.  First of all, I think people know, as we see right now, that we have issued —\n",
            "THE PRESIDENT:  Our numbers are stable.\n",
            "DR. REDFIELD\n",
            "====================\n",
            "Q  Mr. President, as you know, also has a role in this.\n",
            "THE PRESIDENT:  Yes.\n",
            "SECRETARY POMPEO:  Just one more.\n",
            "THE PRESIDENT:  Go ahead.\n",
            "SECRETARY POMPEO:  Yeah, sir.\n",
            "THE PRESIDENT:  Go ahead.\n",
            "Q    Thank you, Mr. President.  The printer wants you to be able to print labels.  What’s your advice on making that possible?\n",
            "THE PRESIDENT:  Well, I’ll tell you something: We do it by printing cases.  We actually — I have many cases where we’ve printed hundreds of containers.  And we’ve — we’re printing them in different colors.\n",
            "So, at — at their facilities, they’ve already completed them.  We’re working with them on that.  We’re — we’re working with them, probably more than any place on Earth.  But we’re strongly encouraged by what’s happening because when we started here, you didn’t have pasteurization, you didn’t have anything.  There’s — your grocery store was very different than it is today, and yet it was very — it was very easy to run.  And we’re making it even easier.  And we’re going to show them where the bottoms are.  We’re getting more and more and more and more.\n",
            "But we’re going to use and we’re going to have a lot of pods.  We’ll have boards with a lot of different numbers in them.  Boards can come in very easily.  So we’re further empowering the American public to bring the entire enterprise to life.  We want our grocery stores to be as successful as possible.  Good out.  Very good out.  And we’ll be — we’ll be working with them on that.\n",
            "Yes, ma’am.  Go ahead.\n",
            "CLARK:  Yes, sir.  Thank you, Mr. President.  The Secretary of the Treasury and the Chair of the National Governors Association just spoke and they embraced this wholeheartedly.  The governors agreed on the fundamentals: clear guidelines for the new federal guidelines for “adults only” breeding, providing guidance for those who would be pregnant, and making sure that all the governors were doing everything possible to make sure that those — that the governors were following the guidelines.\n",
            "Leaving aside concerns as to the safety of drinking, I want to talk a bit about one of our more unique and important components: New Mexico.  And I’ll begin with Vice President Pence.  Vice President Pence is here.  While all of you here are doing everything they can to keep America safe, we are doing everything we possibly can to make sure that New Mexico is safe, too.\n",
            "There’s been a lot of agency involvement in New Mexico, and I’ll — I’ll allow Vice President Pence the chance to speak, but it’s not the place of the Vice President to do so.\n",
            "So, New Mexico has the largest concentration of cattle futures in the country.  They’re getting very close to stability here.  We don’t know who will be the next governor.  But we know that they’re safe.  They’re stable.  And they’re making progress in locking up their nation for the next five years.\n",
            "And we feel confident, beginning with Secretary Pompeo, that we’re going to lock the nation down, while making sure that New Mexico gets the assistance that it needs.  So we’re working with the governor to make sure that the sovereignty and autonomy of New Mexico is taken care of.\n",
            "Daily Media has reported very accurately on the situation in New Mexico.  They have a strong economy, jobs — good ones — loyal workers.  And Governor Hickenlooper has been very patient and supportive of the many efforts to keep them safe, as Governor Kean mentioned.\n",
            "I want to walk through a few things.  First, I want to remind everyone who has been following the events of very recently here in Washington State: There is no need to panic.  We are working through the public health crisis in Washington State very hard, and we’ll get through this with understanding.\n",
            "But this — We just don’t want to see New York and New Jersey, where we’ve been in a very, very dangerous situation — Washington State — get to the point where they are battling coronavirus and losing people’s lives.  But we’re going to really make sure that New Mexico is safe.\n",
            "From us going into this situation, I’m very confident that the American public\n",
            "====================\n",
            "Q  Mr. President, do you have any concerns about the potential increase in the threat of a pandemics? My last question is on what needs to be done to prevent the poaching and illegal wildlife trade.\n",
            "THE PRESIDENT:  Sure.  One of the things I’ve been emphasizing is that we have to stop illegal wildlife trade.  I’ve been saying that for quite some time.  And again, this is a very complex subject, and I’m going to try to yield to what’s happening in the press conference.  I’m not going to do this press conference.  I’m going to have a much more constructive relationship so that people can find out the truth.\n",
            "Q    Mr. President —\n",
            "THE PRESIDENT:  No, you don’t have a problem with that.  Let me — let me give you the — or let the media tell you the truth.  It’s illegal wildlife trade.\n",
            "THE VICE PRESIDENT:  It’s illegal wildlife trade.\n",
            "THE PRESIDENT:  It’s illegal trade, and you should be punished.\n",
            "THE VICE PRESIDENT:  Mr. President, please.\n",
            "THE PRESIDENT:  So, if you find something illegal, let me tell you — let me let you know.  If you find something illegal, let me tell you why.  Just give me a reason.  Why?  One of my top generals told me that the United States was at fault.  I’m going to take a look, but it should be illegal trade and unfair trade.\n",
            "Who’s next?  Jeff Patterson, from Bridge Street, Texas.\n",
            "Q    Thank you, Mr. President, for that.  In the face of the challenge, there was a lot of back-of-the-napkin thinking going on with your decision to postpone the election of new governors.  Having gone through this with Pennsylvania —\n",
            "THE PRESIDENT:  Dave Grabelias —\n",
            "Q    — and Washington State, Louisiana, Rhode Island, Connecticut —\n",
            "THE PRESIDENT:  Thomas Curry, New Hampshire.\n",
            "Q    — Governor Nicole Malliotakis said she is under pressure from employers.  In the face of this pressure, what adjustments have you made?\n",
            "THE PRESIDENT:  Well, you know, it’s a very interesting topic.  I want to — I want to wait until the pandemic.  When you talk about pandemic, I want to go to the original sources first.  The original source — it should be called “the human-caused virus.”  Before it came in, it was just like anything.  It could have been stopped in its tracks.  And I was helping these governors by pushing them in the direction where the pandemic is going to be, maybe because people are paying a lot of money for their governor and their governor has been very good, as you know.\n",
            "But we’ve done a very good job.  In all fairness, Governor Beverly J. Tuite did very well, but she’s gotten hurt.  Governor Steve Gaynor went very quickly, for instance.  He’s going to Louisiana.  And he’s going to Connecticut, which was not in — not having the 16th Amendment.  And he’s going to Georgia, which frankly was a little bit short for what the hell a crisis is.\n",
            "But, look, the truth is, we had — and this has been good, whether you — whether you look at the graphs or not — the human-caused virus was not a factor in Georgia, Washington State, Rhode Island, New York, Montana, California, Florida.  Crucially, we had people speaking — people talking about the consequences of our foolish policies.\n",
            "And, as you know, governors are people, and they do make tough decisions.  I’ll tell you what: Since I began, it’s been seven of them.  And I did a lot of bad decisions in the last seven.\n",
            "Q    But do you — do you — do you think you did a good job trying to do this?\n",
            "THE PRESIDENT:  No, I think that’s — I think you’re talking about seven of them, but I did a lot of bad decisions.  I don’t think I did a very good job.  So you’re talking about seven governors.  I didn’t do a fair job.\n",
            "Q    Is this an example of the degree of weakness that you’re seeing in the use of the “16th Amendment?\n",
            "THE PRESIDENT:  No, I think you’re — no, I think you’ve got to look at — what’s happened is I have people that are talking about what’s wrong.  If you look — if you look\n",
            "====================\n",
            "Q  Mr. President, we are watching your comments today on C.A. —\n",
            "THE PRESIDENT:  By the way, yeah.\n",
            "Q  — and seeing some troubling things.  What do you say to Americans who are watching and who are concerned by what you are hearing?\n",
            "THE PRESIDENT:  I just hope they’re doing what they have to do.  I mean, to the people in the hospital, I — I just hope they’re doing what they have to do.  And, by the way, I’m a patient too, and I’ve had, you know, — from a significant percentage of the workers and the people who work for those companies, I’ve had coronavirus.  And, you know, for me, it’s a little bit different.  But I just hope they’re doing what they have to do.\n",
            "Please.\n",
            "Q    Thank you, Mr. President.  Are you considering new states or new local authorities to manage healthcare, food distribution facilities or even schools to start?  Is there a distinction?\n",
            "THE PRESIDENT:  Well, we’ve been dealing with the state and local authorities for a while.  But we want to make sure that they have the manpower and the equipment to do it — whether it’s ventilators or whether it’s whatever it is, we want to help them.  And if they’re having difficulty in doing that, we’ms going to make sure they get the support that they need.\n",
            "John?\n",
            "Q    Mr. President, I would love to hear from you about the French systems.  If I could, Secretary Azar.  And you’ve just the other day heard a senior administration official say that there’s no risk for the American people from China’s coronavirus.  Secretary Azar, do you agree with that?  And —\n",
            "SECRETARY AZAR:  I think there’s risk and there’s no risk at all.  We’re an economic powerhouse and the risk to Americans is very low.\n",
            "Q    Do you agree with that assessment?  And —\n",
            "SECRETARY AZAR:  I don’t know what this senior administration official said or anything else.  Listen.\n",
            "Q    Yesterday, you told the media that new tests had been performed across the country.  But now in the past 24 hours, the experts say that, as of today May 11th, their findings are — in labs tests have been confirmed as showing no more than 20 cases.  So do you agree with that assessment or are you still shifting your focus to the coronavirus?\n",
            "SECRETARY AZAR:  No, I — look, we have hundreds of laboratories.  They’re doing tests in hospitals and in clinics to get results — wherever they are in the chain of transmission.  And I’m going to state the facts and the reality.  But you know, I really do believe, based on the first statistics from the United Nations, that we have a very small case.  And we’ve learned a lot about it.  We’ve learned a lot.\n",
            "Q    A question for you, sir —\n",
            "SECRETARY AZAR:  Right.\n",
            "Q    — Secretary Azar, if I could.  And one for our panel.  The Department of Health and Human Services today announced plans to shut down all medical facilities in more than 30 states, including protected like nursing homes.  Does HHS expect that this could happen?  And can you assure the American people of that?\n",
            "SECRETARY AZAR:  HHS expects that this will happen.  I mean, if you look at their weekly reports and you can see there’s not only a cas- — there’s not only a CDC decision on an emergency hospital meeting — and there’s a concern that there’s another motel in Ohio — but a couple of times that second hotel is in quarantine.\n",
            "So, you know, they’re moving to close those facilities off.  So we’ve been working very hard.  We’ve had—\n",
            "Q    Dr.  Fauci, you and others have been pushing it.  Well, even France — it says on their website that in one hospital there was 1,831 cases.  Is that correct or are they doing something else.\n",
            "THE VICE PRESIDENT:  Well, it is.  That’s what they’re working.  But it’s a small percentage of the cases.  It’s, you know, a very, you know, under 50 — under 50 percent, but that still looks like it’s very much over 1,000.  We’ve now closed 60.  We�\n",
            "====================\n",
            "Q  Mr. President, can I ask about the patchwork MREs program?  That has been created by the governors.  Will this create a situation where you have a MRE — people traveling from one state, they get infected in another state — I mean, you don’t know who to contact?  They get infected in one state, they get infected in another.  Do you have the confidence, Mr. President, that that MREs — being produced by FEMA will not be what we’re talking about?\n",
            "THE PRESIDENT:  I do, because the governors have been fantastic.  You look at their data.  Do you want to see what I’ve seen?  Do you want to see what FEMA has done in that?  No, they’ve been fantastic.  And, you know, they’re getting — I mean, again, it’s a — it’s a marvellous piece of equipment.  It’s a great piece of equipment.  We’re getting them the equipment.  We’re getting them — we’re getting them —\n",
            "Q    But — but you don’t know who to —\n",
            "THE PRESIDENT:  — talk to people on other airlines.  That’s all.\n",
            "Q    — because you don’t —\n",
            "THE PRESIDENT:  I know —\n",
            "Q    — have you seen —\n",
            "THE PRESIDENT:  I knew nothing about that.  I know nothing about that.  Don’t be bullied by the media.\n",
            "Q    Do you have confidence in FEMA to lead this?  What do you believe in?  He is the point of —\n",
            "THE PRESIDENT:  I don’t have confidence in them.  I will say this: They’ve done an incredible job and the governors are saying the same thing, which has been great.\n",
            "John, go ahead.\n",
            "Q    Mr. President, as you know, the governor of New York, David Weldon, was — he’s a nurse —\n",
            "THE PRESIDENT:  He’s a great gentleman.  I had the very terrible status.\n",
            "Q    — and he has a complicated situation.  He’s a dentist and he’s left his practice.  And he’s taken a helicopter.  Is that related to his previous helicopter work?  Is that a factor?\n",
            "THE PRESIDENT:  I don’t want to — it’s not a factor.  It’s — you know, David Weldon is a great professional.  And I hope he’s going to a place where he’s not going to — but he might have to — where he’ll have to use a helicopter to get out of a country.  So, I really don’t want to put a time limit.  I think you can do it.\n",
            "Great.  Go ahead, in the back.\n",
            "Q    Mr. President, as you know, at the state level, some governors appear to be paying little or no state income taxes at all.  What is your plan for that?  And what threshold do you expect that would be for tax increases?\n",
            "THE PRESIDENT:  Oh, I would expect it to come — you know, it’s a — you know, the idea of paying the state income taxes, or not paying the state income taxes — I mean, that’s something that’s going to happen.  Maybe we should do it electronically.\n",
            "Q    Is that something you’re thinking of?\n",
            "THE PRESIDENT:  Well, it might be.  They look like they are not getting their money.  It’s a — it’s a mystery to me.  And it’s something that they seem to be not getting — but we’ll have answers.  But I think these people have a fiduciary relationship with the taxpayers of their states.  They can pick up the tab for things that they’ve been — I mean, they have some very large places in one — Illinois, Michigan, Louisiana, and New York — and they pick up the tab.  But they don’t do that.\n",
            "And, God, what a day it is for America.  People that don’t deserve it — and I don’t believe we should treat them like it’s a health issue, it’s a safety issue, but it’s a state issue.  It’s a very different situation than you find in Europe; a very different situation than what we found in Europe — both from the standpoint of the numbers that we’re having and the numbers that we’re getting.  And I think when we get it, it’ll be like another music\n",
            "====================\n"
          ],
          "name": "stdout"
        }
      ]
    },
    {
      "cell_type": "markdown",
      "metadata": {
        "id": "zjjEN2Tafhl2",
        "colab_type": "text"
      },
      "source": [
        "For bulk generation, you can generate a large amount of text to a file and sort out the samples locally on your computer. The next cell will generate a generated text file with a unique timestamp.\n",
        "\n",
        "You can rerun the cells as many times as you want for even more generated texts!"
      ]
    },
    {
      "cell_type": "code",
      "metadata": {
        "id": "Fa6p6arifSL0",
        "colab_type": "code",
        "colab": {}
      },
      "source": [
        "gen_file = 'gpt2_gentext_{:%Y%m%d_%H%M%S}.txt'.format(datetime.utcnow())\n",
        "\n",
        "gpt2.generate_to_file(sess,\n",
        "                      destination_path=gen_file,\n",
        "                      length=500,\n",
        "                      temperature=0.7,\n",
        "                      nsamples=100,\n",
        "                      batch_size=20\n",
        "                      )"
      ],
      "execution_count": 0,
      "outputs": []
    },
    {
      "cell_type": "code",
      "metadata": {
        "id": "0-LRex8lfv1g",
        "colab_type": "code",
        "colab": {}
      },
      "source": [
        "# may have to run twice to get file to download\n",
        "files.download(gen_file)"
      ],
      "execution_count": 0,
      "outputs": []
    },
    {
      "cell_type": "markdown",
      "metadata": {
        "id": "QQAN3M6RT7Kj",
        "colab_type": "text"
      },
      "source": [
        "## Generate Text From The Pretrained Model\n",
        "\n",
        "If you want to generate text from the pretrained model, not a finetuned model, pass `model_name` to `gpt2.load_gpt2()` and `gpt2.generate()`.\n",
        "\n",
        "This is currently the only way to generate text from the 774M or 1558M models with this notebook."
      ]
    },
    {
      "cell_type": "code",
      "metadata": {
        "id": "hsUd_jHgUZnD",
        "colab_type": "code",
        "outputId": "4e0c8a3f-3527-41c4-e3fe-3357f3f8f6c2",
        "colab": {
          "base_uri": "https://localhost:8080/",
          "height": 158
        }
      },
      "source": [
        "model_name = \"774M\"\n",
        "\n",
        "gpt2.download_gpt2(model_name=model_name)"
      ],
      "execution_count": 0,
      "outputs": [
        {
          "output_type": "stream",
          "text": [
            "Fetching checkpoint: 1.05Mit [00:00, 354Mit/s]                                                      \n",
            "Fetching encoder.json: 1.05Mit [00:00, 131Mit/s]                                                    \n",
            "Fetching hparams.json: 1.05Mit [00:00, 279Mit/s]                                                    \n",
            "Fetching model.ckpt.data-00000-of-00001: 3.10Git [00:23, 131Mit/s]                                  \n",
            "Fetching model.ckpt.index: 1.05Mit [00:00, 380Mit/s]                                                \n",
            "Fetching model.ckpt.meta: 2.10Mit [00:00, 226Mit/s]                                                 \n",
            "Fetching vocab.bpe: 1.05Mit [00:00, 199Mit/s]                                                       \n"
          ],
          "name": "stderr"
        }
      ]
    },
    {
      "cell_type": "code",
      "metadata": {
        "id": "BAe4NpKNUj2C",
        "colab_type": "code",
        "outputId": "b09bfe1d-2ff8-4b8a-fffb-273d28d5d4ae",
        "colab": {
          "base_uri": "https://localhost:8080/",
          "height": 124
        }
      },
      "source": [
        "sess = gpt2.start_tf_sess()\n",
        "\n",
        "gpt2.load_gpt2(sess, model_name=model_name)"
      ],
      "execution_count": 0,
      "outputs": [
        {
          "output_type": "stream",
          "text": [
            "WARNING: Logging before flag parsing goes to stderr.\n",
            "W0828 18:37:58.571830 139905369159552 deprecation.py:323] From /usr/local/lib/python3.6/dist-packages/tensorflow/python/training/saver.py:1276: checkpoint_exists (from tensorflow.python.training.checkpoint_management) is deprecated and will be removed in a future version.\n",
            "Instructions for updating:\n",
            "Use standard file APIs to check for files with this prefix.\n"
          ],
          "name": "stderr"
        },
        {
          "output_type": "stream",
          "text": [
            "Loading pretrained model models/774M/model.ckpt\n"
          ],
          "name": "stdout"
        }
      ]
    },
    {
      "cell_type": "code",
      "metadata": {
        "id": "-xInIZKaU104",
        "colab_type": "code",
        "outputId": "56348e28-7d08-45e3-c859-f26c0efd066d",
        "colab": {
          "base_uri": "https://localhost:8080/",
          "height": 797
        }
      },
      "source": [
        "gpt2.generate(sess,\n",
        "              model_name=model_name,\n",
        "              prefix=\"The secret of life is\",\n",
        "              length=100,\n",
        "              temperature=0.7,\n",
        "              top_p=0.9,\n",
        "              nsamples=5,\n",
        "              batch_size=5\n",
        "              )"
      ],
      "execution_count": 0,
      "outputs": [
        {
          "output_type": "stream",
          "text": [
            "The secret of life is that it's really easy to make it complicated,\" said Bill Nye, the host of the popular science show \"Bill Nye the Science Guy.\" \"And this is one of the reasons why we all need to be smarter about science, because we can't keep up with the amazing things that are going on all the time.\"\n",
            "\n",
            "While Nye is correct that \"everything that's going on all the time\" is making the world a better place, he misses the point. This is not\n",
            "====================\n",
            "The secret of life is in the rhythm of the universe. It's not a mystery. It's not a mystery to me. It's the nature of the universe. It's the beauty of the universe. It's the way the universe works. It's the way the universe is. It's the way the universe is going to work. It's the way the universe is. It's the way the universe is. It's the way the universe is. It's the way the universe is. It's the way\n",
            "====================\n",
            "The secret of life is in the universe.\n",
            "\n",
            "\n",
            "-\n",
            "\n",
            "The Red Devil\n",
            "\n",
            "It's the end of the world as we know it, and the only thing that can save us is a band of super-powered individuals known as the Red Devil.\n",
            "\n",
            "\n",
            "The Red Devil is a group of super-powered individuals who are seeking the secret of life and the only way they know how to do it is by taking on the roles of a variety of different super-powered individuals, each of which has their own\n",
            "====================\n",
            "The secret of life is in the mixing of the elements, and it is the mixing of the elements that makes life possible.\"\n",
            "\n",
            "But in the world of food science, the idea of a \"complex\" or \"complexity\" is almost entirely imaginary.\n",
            "\n",
            "As a scientist, I'm fascinated by the question of how life first began.\n",
            "\n",
            "It's the question that drives my work and the work of the scientists who work on it.\n",
            "\n",
            "My current research is exploring how microbes work in the first moments\n",
            "====================\n",
            "The secret of life is the journey of life, the search for the truth.\n",
            "\n",
            "4.4.2. The last thing you know\n",
            "\n",
            "There is nothing more important than the last thing you know.\n",
            "\n",
            "4.4.3. The little things that make all the difference\n",
            "\n",
            "The little things that make all the difference.\n",
            "\n",
            "4.4.4. The truth is the best teacher\n",
            "\n",
            "The truth is the best teacher.\n",
            "\n",
            "4.4.5. The truth is what\n",
            "====================\n"
          ],
          "name": "stdout"
        }
      ]
    },
    {
      "cell_type": "markdown",
      "metadata": {
        "id": "ig-KVgkCDCKD",
        "colab_type": "text"
      },
      "source": [
        "# Etcetera\n",
        "\n",
        "If the notebook has errors (e.g. GPU Sync Fail), force-kill the Colaboratory virtual machine and restart it with the command below:"
      ]
    },
    {
      "cell_type": "code",
      "metadata": {
        "id": "rIHiVP53FnsX",
        "colab_type": "code",
        "colab": {}
      },
      "source": [
        "!kill -9 -1"
      ],
      "execution_count": 0,
      "outputs": []
    },
    {
      "cell_type": "markdown",
      "metadata": {
        "id": "wmTXWNUygS5E",
        "colab_type": "text"
      },
      "source": [
        "# LICENSE\n",
        "\n",
        "MIT License\n",
        "\n",
        "Copyright (c) 2019 Max Woolf\n",
        "\n",
        "Permission is hereby granted, free of charge, to any person obtaining a copy\n",
        "of this software and associated documentation files (the \"Software\"), to deal\n",
        "in the Software without restriction, including without limitation the rights\n",
        "to use, copy, modify, merge, publish, distribute, sublicense, and/or sell\n",
        "copies of the Software, and to permit persons to whom the Software is\n",
        "furnished to do so, subject to the following conditions:\n",
        "\n",
        "The above copyright notice and this permission notice shall be included in all\n",
        "copies or substantial portions of the Software.\n",
        "\n",
        "THE SOFTWARE IS PROVIDED \"AS IS\", WITHOUT WARRANTY OF ANY KIND, EXPRESS OR\n",
        "IMPLIED, INCLUDING BUT NOT LIMITED TO THE WARRANTIES OF MERCHANTABILITY,\n",
        "FITNESS FOR A PARTICULAR PURPOSE AND NONINFRINGEMENT. IN NO EVENT SHALL THE\n",
        "AUTHORS OR COPYRIGHT HOLDERS BE LIABLE FOR ANY CLAIM, DAMAGES OR OTHER\n",
        "LIABILITY, WHETHER IN AN ACTION OF CONTRACT, TORT OR OTHERWISE, ARISING FROM,\n",
        "OUT OF OR IN CONNECTION WITH THE SOFTWARE OR THE USE OR OTHER DEALINGS IN THE\n",
        "SOFTWARE."
      ]
    }
  ]
}