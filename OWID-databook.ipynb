{
 "cells": [
  {
   "cell_type": "markdown",
   "metadata": {},
   "source": [
    "# Codebook for the complete Our World in Data COVID-19 dataset\n",
    "\n",
    "Column|Description|Source\n",
    "------|-----------|------\n",
    "`iso_code`|ISO 3166-1 alpha-3 – three-letter country codes|International Organization for Standardization\n",
    "`location`|Geographical location|Our World in Data\n",
    "`date`|Date of observation|Our World in Data\n",
    "`total_cases`|Total confirmed cases of COVID-19|European Centre for Disease Prevention and Control\n",
    "`new_cases`|New confirmed cases of COVID-19|European Centre for Disease Prevention and Control\n",
    "`total_deaths`|Total deaths attributed to COVID-19|European Centre for Disease Prevention and Control\n",
    "`new_deaths`|New deaths attributed to COVID-19|European Centre for Disease Prevention and Control\n",
    "`total_cases_per_million`|Total confirmed cases of COVID-19 per 1,000,000 people|European Centre for Disease Prevention and Control\n",
    "`new_cases_per_million`|New confirmed cases of COVID-19 per 1,000,000 people|European Centre for Disease Prevention and Control\n",
    "`total_deaths_per_million`|Total deaths attributed to COVID-19 per 1,000,000 people|European Centre for Disease Prevention and Control\n",
    "`new_deaths_per_million`|New deaths attributed to COVID-19 per 1,000,000 people|European Centre for Disease Prevention and Control\n",
    "`total_tests`|Total tests for COVID-19|European Centre for Disease Prevention and Control\n",
    "`new_tests`|New tests for COVID-19|European Centre for Disease Prevention and Control\n",
    "`total_tests_per_thousand`|Total tests for COVID-19 per 1,000 people|National government reports\n",
    "`new_tests_per_thousand`|New tests for COVID-19 per 1,000 people|National government reports\n",
    "`tests_units`|Units used by the location to report its testing data|National government reports\n",
    "`population`|Population in 2020|United Nations, Department of Economic and Social Affairs, Population Division, World Population Prospects: The 2019 Revision\n",
    "`population_density`|Number of people divided by land area, measured in square kilometers, most recent year available|World Bank – World Development Indicators, sourced from Food and Agriculture Organization and World Bank estimates\n",
    "`median_age`|Median age of the population, UN projection for 2020|UN Population Division, World Population Prospects, 2017 Revision\n",
    "`aged_65_older`|Share of the population that is 65 years and older, most recent year available|World Bank – World Development Indicators, based on age/sex distributions of United Nations Population Division's World Population Prospects: 2017 Revision\n",
    "`aged_70_older`|Share of the population that is 70 years and older in 2015|United Nations, Department of Economic and Social Affairs, Population Division (2017), World Population Prospects: The 2017 Revision\n",
    "`gdp_per_capita`|Gross domestic product at purchasing power parity (constant 2011 international dollars), most recent year available|World Bank – World Development Indicators, source from World Bank, International Comparison Program database\n",
    "`extreme_poverty`|Share of the population living in extreme poverty, most recent year available since 2010|World Bank – World Development Indicators, sourced from World Bank Development Research Group\n",
    "`cvd_death_rate`|Death rate from cardiovascular disease in 2017|Global Burden of Disease Collaborative Network, Global Burden of Disease Study 2017 Results\n",
    "`diabetes_prevalence`|Diabetes prevalence (% of population aged 20 to 79) in 2017|World Bank – World Development Indicators, sourced from International Diabetes Federation, Diabetes Atlas\n",
    "`female_smokers`|Share of women who smoke, most recent year available|World Bank – World Development Indicators, sourced from World Health Organization, Global Health Observatory Data Repository\n",
    "`male_smokers`|Share of men who smoke, most recent year available|World Bank – World Development Indicators, sourced from World Health Organization, Global Health Observatory Data Repository\n",
    "`handwashing_facilities`|Share of the population with basic handwashing facilities on premises, most recent year available|United Nations Statistics Division\n",
    "`hospital_beds_per_100k`|Hospital beds per 100,000 people, most recent year available since 2010|OECD, Eurostat, World Bank, national government records and other sources\n"
   ]
  },
  {
   "cell_type": "code",
   "execution_count": null,
   "metadata": {},
   "outputs": [],
   "source": []
  }
 ],
 "metadata": {
  "kernelspec": {
   "display_name": "Python 3",
   "language": "python",
   "name": "python3"
  },
  "language_info": {
   "codemirror_mode": {
    "name": "ipython",
    "version": 3
   },
   "file_extension": ".py",
   "mimetype": "text/x-python",
   "name": "python",
   "nbconvert_exporter": "python",
   "pygments_lexer": "ipython3",
   "version": "3.7.6"
  }
 },
 "nbformat": 4,
 "nbformat_minor": 4
}
