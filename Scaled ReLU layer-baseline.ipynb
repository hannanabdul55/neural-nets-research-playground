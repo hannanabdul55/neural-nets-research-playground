{
 "cells": [
  {
   "cell_type": "code",
   "execution_count": 1,
   "metadata": {},
   "outputs": [],
   "source": [
    "%load_ext autoreload\n",
    "%autoreload 2\n",
    "%load_ext tensorboard\n",
    "%matplotlib inline"
   ]
  },
  {
   "cell_type": "code",
   "execution_count": 2,
   "metadata": {},
   "outputs": [],
   "source": [
    "from utils import *\n",
    "from datetime import date"
   ]
  },
  {
   "cell_type": "code",
   "execution_count": 3,
   "metadata": {},
   "outputs": [
    {
     "name": "stdout",
     "output_type": "stream",
     "text": [
      "Files already downloaded and verified\n",
      "Files already downloaded and verified\n"
     ]
    }
   ],
   "source": [
    "trainloader, testloader, classes = load_CIFAR()"
   ]
  },
  {
   "cell_type": "markdown",
   "metadata": {},
   "source": [
    "### Batchnorm Training\n",
    "- `model_bn` is the model with batchnorm layers\n",
    "- train this model on the CIFAR 10 dataset"
   ]
  },
  {
   "cell_type": "code",
   "execution_count": 4,
   "metadata": {},
   "outputs": [],
   "source": [
    "model_bn = nn.Sequential(\n",
    "    nn.Conv2d(3, 16, 3),\n",
    "    nn.ReLU(),\n",
    "    nn.FractionalMaxPool2d(2, output_ratio=(1/np.sqrt(2))),\n",
    "    nn.Conv2d(16, 32, 3),\n",
    "    nn.ReLU(),\n",
    "    nn.FractionalMaxPool2d(2, output_ratio=(1/np.sqrt(2))),\n",
    "    nn.Flatten(),\n",
    "    nn.Linear(5408, 1152),\n",
    "    nn.BatchNorm1d(1152),\n",
    "    nn.ReLU(),\n",
    "    nn.Linear(1152, 512),\n",
    "    nn.BatchNorm1d(512),\n",
    "    nn.ReLU(),\n",
    "    nn.Linear(512, 128),\n",
    "    nn.BatchNorm1d(128),\n",
    "    nn.ReLU(),\n",
    "    nn.Linear(128, 10)\n",
    ")"
   ]
  },
  {
   "cell_type": "code",
   "execution_count": 5,
   "metadata": {},
   "outputs": [],
   "source": [
    "loss_history_bn = []\n",
    "writer_bn = SummaryWriter(log_dir='runs/bn_stats-relu-%s' % date.today(), flush_secs=10)"
   ]
  },
  {
   "cell_type": "code",
   "execution_count": 6,
   "metadata": {},
   "outputs": [],
   "source": [
    "ce_loss = nn.CrossEntropyLoss(reduction='sum')\n",
    "def criterion(op, y, model_p):\n",
    "    params = list(model_p.parameters())\n",
    "    return ce_loss(op, y) #+ (1/len(params))*(torch.norm(torch.cat([param.view(-1) for param in params]))) #+ torch.sum((1/len(params))*torch.exp(torch.abs(torch.cat([param.view(-1) for param in params]))))\n"
   ]
  },
  {
   "cell_type": "code",
   "execution_count": 7,
   "metadata": {},
   "outputs": [
    {
     "name": "stdout",
     "output_type": "stream",
     "text": [
      "[1,   300] loss: 84.639\n",
      "[1,   600] loss: 83.800\n",
      "[2,   300] loss: 67.353\n",
      "[2,   600] loss: 48.714\n",
      "[3,   300] loss: 53.240\n",
      "[3,   600] loss: 72.234\n",
      "[4,   300] loss: 42.358\n",
      "[4,   600] loss: 41.034\n",
      "[5,   300] loss: 23.588\n",
      "[5,   600] loss: 45.450\n",
      "[6,   300] loss: 44.843\n",
      "[6,   600] loss: 37.670\n",
      "[7,   300] loss: 20.766\n",
      "[7,   600] loss: 39.614\n",
      "[8,   300] loss: 23.454\n",
      "[8,   600] loss: 25.141\n",
      "[9,   300] loss: 11.887\n",
      "[9,   600] loss: 15.695\n",
      "[10,   300] loss: 13.196\n",
      "[10,   600] loss: 28.277\n",
      "[11,   300] loss: 10.491\n",
      "[11,   600] loss: 7.982\n",
      "[12,   300] loss: 6.155\n",
      "[12,   600] loss: 13.527\n",
      "[13,   300] loss: 7.490\n",
      "[13,   600] loss: 7.707\n",
      "[14,   300] loss: 11.113\n",
      "[14,   600] loss: 6.812\n",
      "[15,   300] loss: 8.155\n",
      "[15,   600] loss: 12.976\n",
      "[16,   300] loss: 14.308\n",
      "[16,   600] loss: 4.191\n",
      "[17,   300] loss: 15.237\n",
      "[17,   600] loss: 2.085\n",
      "[18,   300] loss: 3.824\n",
      "[18,   600] loss: 5.433\n",
      "[19,   300] loss: 3.479\n",
      "[19,   600] loss: 11.724\n",
      "[20,   300] loss: 5.210\n",
      "[20,   600] loss: 8.366\n"
     ]
    }
   ],
   "source": [
    "loss_tanh = train_model(model_bn, trainloader, criterion, optimizer = optim.Adam(list(model_bn.parameters()), lr=3e-4), epochs=20, writer=writer_bn)"
   ]
  },
  {
   "cell_type": "code",
   "execution_count": 8,
   "metadata": {},
   "outputs": [
    {
     "name": "stdout",
     "output_type": "stream",
     "text": [
      "Mean:  0.028904855\n",
      "Standard Deviation:  0.028047554\n",
      "Sparsity:  0.0024671131325638344\n"
     ]
    }
   ],
   "source": [
    "stats_bn = print_stats(model_bn)"
   ]
  },
  {
   "cell_type": "code",
   "execution_count": 9,
   "metadata": {},
   "outputs": [
    {
     "name": "stdout",
     "output_type": "stream",
     "text": [
      "test error: 0.291\n"
     ]
    }
   ],
   "source": [
    "bn_model_err = get_model_error(model_bn, testloader)"
   ]
  },
  {
   "cell_type": "code",
   "execution_count": null,
   "metadata": {},
   "outputs": [],
   "source": []
  }
 ],
 "metadata": {
  "kernelspec": {
   "display_name": "Python 3",
   "language": "python",
   "name": "python3"
  },
  "language_info": {
   "codemirror_mode": {
    "name": "ipython",
    "version": 3
   },
   "file_extension": ".py",
   "mimetype": "text/x-python",
   "name": "python",
   "nbconvert_exporter": "python",
   "pygments_lexer": "ipython3",
   "version": "3.5.6"
  }
 },
 "nbformat": 4,
 "nbformat_minor": 2
}
