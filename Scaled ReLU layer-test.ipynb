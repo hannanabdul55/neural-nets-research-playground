{
 "cells": [
  {
   "cell_type": "code",
   "execution_count": 1,
   "metadata": {},
   "outputs": [],
   "source": [
    "%load_ext autoreload\n",
    "%autoreload 2\n",
    "%load_ext tensorboard\n",
    "%matplotlib inline"
   ]
  },
  {
   "cell_type": "code",
   "execution_count": 2,
   "metadata": {},
   "outputs": [],
   "source": [
    "from utils import *\n",
    "from scale_layer import *\n",
    "from datetime import date"
   ]
  },
  {
   "cell_type": "code",
   "execution_count": 3,
   "metadata": {},
   "outputs": [
    {
     "name": "stdout",
     "output_type": "stream",
     "text": [
      "Files already downloaded and verified\n",
      "Files already downloaded and verified\n"
     ]
    }
   ],
   "source": [
    "trainloader, testloader, classes = load_CIFAR()"
   ]
  },
  {
   "cell_type": "markdown",
   "metadata": {},
   "source": [
    "### Batchnorm Training\n",
    "- `model_bn` is the model with batchnorm layers\n",
    "- train this model on the CIFAR 10 dataset"
   ]
  },
  {
   "cell_type": "code",
   "execution_count": 4,
   "metadata": {},
   "outputs": [],
   "source": [
    "loss_history_bn = []\n",
    "writer_bn = SummaryWriter(log_dir='runs/bn_stats-relu-test-%s' % date.today(), flush_secs=10)"
   ]
  },
  {
   "cell_type": "code",
   "execution_count": 5,
   "metadata": {},
   "outputs": [],
   "source": [
    "model_bn = nn.Sequential(\n",
    "    nn.Conv2d(3, 16, 3),\n",
    "    ScaleLayer(writer=writer_bn),\n",
    "    nn.FractionalMaxPool2d(2, output_ratio=(1/np.sqrt(2))),\n",
    "    nn.Conv2d(16, 32, 3),\n",
    "    ScaleLayer(writer=writer_bn),\n",
    "    nn.FractionalMaxPool2d(2, output_ratio=(1/np.sqrt(2))),\n",
    "    nn.Flatten(),\n",
    "    nn.Linear(5408, 1152),\n",
    "    ScaleLayer(writer=writer_bn),\n",
    "    nn.Linear(1152, 512),\n",
    "    ScaleLayer(writer=writer_bn),\n",
    "    nn.Linear(512, 128),\n",
    "    ScaleLayer(writer=writer_bn),\n",
    "    nn.Linear(128, 10)\n",
    ")"
   ]
  },
  {
   "cell_type": "code",
   "execution_count": 6,
   "metadata": {},
   "outputs": [],
   "source": [
    "ce_loss = nn.CrossEntropyLoss(reduction='sum')\n",
    "def criterion(op, y, model_p):\n",
    "    params = list(model_p.parameters())\n",
    "    return ce_loss(op, y) #+ (1/len(params))*(torch.norm(torch.cat([param.view(-1) for param in params]))) #+ torch.sum((1/len(params))*torch.exp(torch.abs(torch.cat([param.view(-1) for param in params]))))\n"
   ]
  },
  {
   "cell_type": "code",
   "execution_count": 7,
   "metadata": {},
   "outputs": [
    {
     "name": "stdout",
     "output_type": "stream",
     "text": [
      "[1,   300] loss: 112.427\n",
      "[1,   600] loss: 103.488\n",
      "[2,   300] loss: 114.100\n",
      "[2,   600] loss: 98.359\n",
      "[3,   300] loss: 84.469\n",
      "[3,   600] loss: 89.483\n",
      "[4,   300] loss: 93.660\n",
      "[4,   600] loss: 82.782\n",
      "[5,   300] loss: 73.620\n",
      "[5,   600] loss: 60.956\n",
      "[6,   300] loss: 93.441\n",
      "[6,   600] loss: 60.695\n",
      "[7,   300] loss: 79.152\n",
      "[7,   600] loss: 73.166\n",
      "[8,   300] loss: 55.102\n",
      "[8,   600] loss: 75.242\n",
      "[9,   300] loss: 73.722\n",
      "[9,   600] loss: 56.814\n",
      "[10,   300] loss: 62.010\n",
      "[10,   600] loss: 62.190\n",
      "[11,   300] loss: 58.661\n",
      "[11,   600] loss: 62.976\n",
      "[12,   300] loss: 60.812\n",
      "[12,   600] loss: 50.407\n",
      "[13,   300] loss: 73.072\n",
      "[13,   600] loss: 47.746\n",
      "[14,   300] loss: 53.078\n",
      "[14,   600] loss: 63.372\n",
      "[15,   300] loss: 54.213\n",
      "[15,   600] loss: 43.194\n",
      "[16,   300] loss: 53.638\n",
      "[16,   600] loss: 52.315\n",
      "[17,   300] loss: 46.938\n",
      "[17,   600] loss: 45.979\n",
      "[18,   300] loss: 44.667\n",
      "[18,   600] loss: 43.189\n",
      "[19,   300] loss: 30.940\n",
      "[19,   600] loss: 39.713\n",
      "[20,   300] loss: 45.075\n",
      "[20,   600] loss: 44.602\n"
     ]
    }
   ],
   "source": [
    "loss_tanh = train_model(model_bn, trainloader, criterion, optimizer = optim.Adam(list(model_bn.parameters()), lr=3e-4), epochs=20, writer=writer_bn)"
   ]
  },
  {
   "cell_type": "code",
   "execution_count": 8,
   "metadata": {},
   "outputs": [
    {
     "name": "stdout",
     "output_type": "stream",
     "text": [
      "Mean:  0.020245323\n",
      "Standard Deviation:  0.027986802\n",
      "Sparsity:  0.00492764904473761\n"
     ]
    }
   ],
   "source": [
    "stats_bn = print_stats(model_bn)"
   ]
  },
  {
   "cell_type": "code",
   "execution_count": 9,
   "metadata": {},
   "outputs": [
    {
     "name": "stdout",
     "output_type": "stream",
     "text": [
      "test error: 0.3124\n"
     ]
    }
   ],
   "source": [
    "bn_model_err = get_model_error(model_bn, testloader)"
   ]
  },
  {
   "cell_type": "code",
   "execution_count": null,
   "metadata": {},
   "outputs": [],
   "source": []
  }
 ],
 "metadata": {
  "kernelspec": {
   "display_name": "Python 3",
   "language": "python",
   "name": "python3"
  },
  "language_info": {
   "codemirror_mode": {
    "name": "ipython",
    "version": 3
   },
   "file_extension": ".py",
   "mimetype": "text/x-python",
   "name": "python",
   "nbconvert_exporter": "python",
   "pygments_lexer": "ipython3",
   "version": "3.5.6"
  }
 },
 "nbformat": 4,
 "nbformat_minor": 2
}
