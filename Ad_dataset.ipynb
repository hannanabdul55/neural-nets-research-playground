{
  "nbformat": 4,
  "nbformat_minor": 0,
  "metadata": {
    "colab": {
      "name": "Ad_dataset.ipynb",
      "provenance": [],
      "collapsed_sections": [],
      "toc_visible": true,
      "mount_file_id": "1AB79WO8wIlJ9VH9rwt7irr3IS33eDWAy",
      "authorship_tag": "ABX9TyMgnAueDSCrFeIkFwveZmQF",
      "include_colab_link": true
    },
    "kernelspec": {
      "name": "python3",
      "display_name": "Python 3"
    },
    "widgets": {
      "application/vnd.jupyter.widget-state+json": {
        "a38b0412e6074cf18c121bb0994a9a87": {
          "model_module": "@jupyter-widgets/controls",
          "model_name": "HBoxModel",
          "state": {
            "_view_name": "HBoxView",
            "_dom_classes": [],
            "_model_name": "HBoxModel",
            "_view_module": "@jupyter-widgets/controls",
            "_model_module_version": "1.5.0",
            "_view_count": null,
            "_view_module_version": "1.5.0",
            "box_style": "",
            "layout": "IPY_MODEL_a0c89dfb2b7c4d1bab536774ee2c8ebd",
            "_model_module": "@jupyter-widgets/controls",
            "children": [
              "IPY_MODEL_03fc6e4f37e747cbbed1399c497cc58e",
              "IPY_MODEL_f9b3e4dfd0bc449096b7b3b340a20748"
            ]
          }
        },
        "a0c89dfb2b7c4d1bab536774ee2c8ebd": {
          "model_module": "@jupyter-widgets/base",
          "model_name": "LayoutModel",
          "state": {
            "_view_name": "LayoutView",
            "grid_template_rows": null,
            "right": null,
            "justify_content": null,
            "_view_module": "@jupyter-widgets/base",
            "overflow": null,
            "_model_module_version": "1.2.0",
            "_view_count": null,
            "flex_flow": null,
            "width": null,
            "min_width": null,
            "border": null,
            "align_items": null,
            "bottom": null,
            "_model_module": "@jupyter-widgets/base",
            "top": null,
            "grid_column": null,
            "overflow_y": null,
            "overflow_x": null,
            "grid_auto_flow": null,
            "grid_area": null,
            "grid_template_columns": null,
            "flex": null,
            "_model_name": "LayoutModel",
            "justify_items": null,
            "grid_row": null,
            "max_height": null,
            "align_content": null,
            "visibility": null,
            "align_self": null,
            "height": null,
            "min_height": null,
            "padding": null,
            "grid_auto_rows": null,
            "grid_gap": null,
            "max_width": null,
            "order": null,
            "_view_module_version": "1.2.0",
            "grid_template_areas": null,
            "object_position": null,
            "object_fit": null,
            "grid_auto_columns": null,
            "margin": null,
            "display": null,
            "left": null
          }
        },
        "03fc6e4f37e747cbbed1399c497cc58e": {
          "model_module": "@jupyter-widgets/controls",
          "model_name": "FloatProgressModel",
          "state": {
            "_view_name": "ProgressView",
            "style": "IPY_MODEL_aab9fd7d42294984b9b44007e2f5d996",
            "_dom_classes": [],
            "description": "Downloading: 100%",
            "_model_name": "FloatProgressModel",
            "bar_style": "success",
            "max": 231508,
            "_view_module": "@jupyter-widgets/controls",
            "_model_module_version": "1.5.0",
            "value": 231508,
            "_view_count": null,
            "_view_module_version": "1.5.0",
            "orientation": "horizontal",
            "min": 0,
            "description_tooltip": null,
            "_model_module": "@jupyter-widgets/controls",
            "layout": "IPY_MODEL_b7196fe283dd4f19a6b1f760be9efb56"
          }
        },
        "f9b3e4dfd0bc449096b7b3b340a20748": {
          "model_module": "@jupyter-widgets/controls",
          "model_name": "HTMLModel",
          "state": {
            "_view_name": "HTMLView",
            "style": "IPY_MODEL_8b6b1045d4964da18756dfccbc2b6cb9",
            "_dom_classes": [],
            "description": "",
            "_model_name": "HTMLModel",
            "placeholder": "​",
            "_view_module": "@jupyter-widgets/controls",
            "_model_module_version": "1.5.0",
            "value": " 232k/232k [00:00&lt;00:00, 2.14MB/s]",
            "_view_count": null,
            "_view_module_version": "1.5.0",
            "description_tooltip": null,
            "_model_module": "@jupyter-widgets/controls",
            "layout": "IPY_MODEL_b929675ba1e947da873ed7157f45da73"
          }
        },
        "aab9fd7d42294984b9b44007e2f5d996": {
          "model_module": "@jupyter-widgets/controls",
          "model_name": "ProgressStyleModel",
          "state": {
            "_view_name": "StyleView",
            "_model_name": "ProgressStyleModel",
            "description_width": "initial",
            "_view_module": "@jupyter-widgets/base",
            "_model_module_version": "1.5.0",
            "_view_count": null,
            "_view_module_version": "1.2.0",
            "bar_color": null,
            "_model_module": "@jupyter-widgets/controls"
          }
        },
        "b7196fe283dd4f19a6b1f760be9efb56": {
          "model_module": "@jupyter-widgets/base",
          "model_name": "LayoutModel",
          "state": {
            "_view_name": "LayoutView",
            "grid_template_rows": null,
            "right": null,
            "justify_content": null,
            "_view_module": "@jupyter-widgets/base",
            "overflow": null,
            "_model_module_version": "1.2.0",
            "_view_count": null,
            "flex_flow": null,
            "width": null,
            "min_width": null,
            "border": null,
            "align_items": null,
            "bottom": null,
            "_model_module": "@jupyter-widgets/base",
            "top": null,
            "grid_column": null,
            "overflow_y": null,
            "overflow_x": null,
            "grid_auto_flow": null,
            "grid_area": null,
            "grid_template_columns": null,
            "flex": null,
            "_model_name": "LayoutModel",
            "justify_items": null,
            "grid_row": null,
            "max_height": null,
            "align_content": null,
            "visibility": null,
            "align_self": null,
            "height": null,
            "min_height": null,
            "padding": null,
            "grid_auto_rows": null,
            "grid_gap": null,
            "max_width": null,
            "order": null,
            "_view_module_version": "1.2.0",
            "grid_template_areas": null,
            "object_position": null,
            "object_fit": null,
            "grid_auto_columns": null,
            "margin": null,
            "display": null,
            "left": null
          }
        },
        "8b6b1045d4964da18756dfccbc2b6cb9": {
          "model_module": "@jupyter-widgets/controls",
          "model_name": "DescriptionStyleModel",
          "state": {
            "_view_name": "StyleView",
            "_model_name": "DescriptionStyleModel",
            "description_width": "",
            "_view_module": "@jupyter-widgets/base",
            "_model_module_version": "1.5.0",
            "_view_count": null,
            "_view_module_version": "1.2.0",
            "_model_module": "@jupyter-widgets/controls"
          }
        },
        "b929675ba1e947da873ed7157f45da73": {
          "model_module": "@jupyter-widgets/base",
          "model_name": "LayoutModel",
          "state": {
            "_view_name": "LayoutView",
            "grid_template_rows": null,
            "right": null,
            "justify_content": null,
            "_view_module": "@jupyter-widgets/base",
            "overflow": null,
            "_model_module_version": "1.2.0",
            "_view_count": null,
            "flex_flow": null,
            "width": null,
            "min_width": null,
            "border": null,
            "align_items": null,
            "bottom": null,
            "_model_module": "@jupyter-widgets/base",
            "top": null,
            "grid_column": null,
            "overflow_y": null,
            "overflow_x": null,
            "grid_auto_flow": null,
            "grid_area": null,
            "grid_template_columns": null,
            "flex": null,
            "_model_name": "LayoutModel",
            "justify_items": null,
            "grid_row": null,
            "max_height": null,
            "align_content": null,
            "visibility": null,
            "align_self": null,
            "height": null,
            "min_height": null,
            "padding": null,
            "grid_auto_rows": null,
            "grid_gap": null,
            "max_width": null,
            "order": null,
            "_view_module_version": "1.2.0",
            "grid_template_areas": null,
            "object_position": null,
            "object_fit": null,
            "grid_auto_columns": null,
            "margin": null,
            "display": null,
            "left": null
          }
        }
      }
    }
  },
  "cells": [
    {
      "cell_type": "markdown",
      "metadata": {
        "id": "view-in-github",
        "colab_type": "text"
      },
      "source": [
        "<a href=\"https://colab.research.google.com/github/hannanabdul55/neural-nets-research-playground/blob/master/Ad_dataset.ipynb\" target=\"_parent\"><img src=\"https://colab.research.google.com/assets/colab-badge.svg\" alt=\"Open In Colab\"/></a>"
      ]
    },
    {
      "cell_type": "code",
      "metadata": {
        "id": "bziqmTzO8hrT",
        "colab": {
          "base_uri": "https://localhost:8080/",
          "height": 649
        },
        "outputId": "2f3840c0-ec2c-47bb-8379-ea29fbdb2d3b"
      },
      "source": [
        "import pandas as pd\n",
        "import json\n",
        "import re\n",
        "\n",
        "import torch\n",
        "\n",
        "# Try import ing external module, if not, pip install the pacage and import \n",
        "try:\n",
        "    from transformers import BertModel, BertTokenizer\n",
        "except:\n",
        "    !pip install transformers\n",
        "    from transformers import BertModel, BertTokenizer\n",
        "\n",
        "import sklearn\n",
        "from sklearn_pandas import DataFrameMapper\n",
        "import numpy as np\n",
        "from sklearn.pipeline import Pipeline\n",
        "from sklearn.feature_extraction import DictVectorizer\n",
        "from sklearn.feature_extraction.text import HashingVectorizer"
      ],
      "execution_count": null,
      "outputs": [
        {
          "output_type": "stream",
          "text": [
            "Collecting transformers\n",
            "\u001b[?25l  Downloading https://files.pythonhosted.org/packages/2c/4e/4f1ede0fd7a36278844a277f8d53c21f88f37f3754abf76a5d6224f76d4a/transformers-3.4.0-py3-none-any.whl (1.3MB)\n",
            "\u001b[K     |████████████████████████████████| 1.3MB 2.8MB/s \n",
            "\u001b[?25hRequirement already satisfied: filelock in /usr/local/lib/python3.6/dist-packages (from transformers) (3.0.12)\n",
            "Collecting tokenizers==0.9.2\n",
            "\u001b[?25l  Downloading https://files.pythonhosted.org/packages/7c/a5/78be1a55b2ac8d6a956f0a211d372726e2b1dd2666bb537fea9b03abd62c/tokenizers-0.9.2-cp36-cp36m-manylinux1_x86_64.whl (2.9MB)\n",
            "\u001b[K     |████████████████████████████████| 2.9MB 15.9MB/s \n",
            "\u001b[?25hRequirement already satisfied: numpy in /usr/local/lib/python3.6/dist-packages (from transformers) (1.18.5)\n",
            "Requirement already satisfied: protobuf in /usr/local/lib/python3.6/dist-packages (from transformers) (3.12.4)\n",
            "Collecting sacremoses\n",
            "\u001b[?25l  Downloading https://files.pythonhosted.org/packages/7d/34/09d19aff26edcc8eb2a01bed8e98f13a1537005d31e95233fd48216eed10/sacremoses-0.0.43.tar.gz (883kB)\n",
            "\u001b[K     |████████████████████████████████| 890kB 32.8MB/s \n",
            "\u001b[?25hRequirement already satisfied: tqdm>=4.27 in /usr/local/lib/python3.6/dist-packages (from transformers) (4.41.1)\n",
            "Collecting sentencepiece!=0.1.92\n",
            "\u001b[?25l  Downloading https://files.pythonhosted.org/packages/e5/2d/6d4ca4bef9a67070fa1cac508606328329152b1df10bdf31fb6e4e727894/sentencepiece-0.1.94-cp36-cp36m-manylinux2014_x86_64.whl (1.1MB)\n",
            "\u001b[K     |████████████████████████████████| 1.1MB 24.7MB/s \n",
            "\u001b[?25hRequirement already satisfied: requests in /usr/local/lib/python3.6/dist-packages (from transformers) (2.23.0)\n",
            "Requirement already satisfied: packaging in /usr/local/lib/python3.6/dist-packages (from transformers) (20.4)\n",
            "Requirement already satisfied: regex!=2019.12.17 in /usr/local/lib/python3.6/dist-packages (from transformers) (2019.12.20)\n",
            "Requirement already satisfied: dataclasses; python_version < \"3.7\" in /usr/local/lib/python3.6/dist-packages (from transformers) (0.7)\n",
            "Requirement already satisfied: six>=1.9 in /usr/local/lib/python3.6/dist-packages (from protobuf->transformers) (1.15.0)\n",
            "Requirement already satisfied: setuptools in /usr/local/lib/python3.6/dist-packages (from protobuf->transformers) (50.3.0)\n",
            "Requirement already satisfied: click in /usr/local/lib/python3.6/dist-packages (from sacremoses->transformers) (7.1.2)\n",
            "Requirement already satisfied: joblib in /usr/local/lib/python3.6/dist-packages (from sacremoses->transformers) (0.17.0)\n",
            "Requirement already satisfied: urllib3!=1.25.0,!=1.25.1,<1.26,>=1.21.1 in /usr/local/lib/python3.6/dist-packages (from requests->transformers) (1.24.3)\n",
            "Requirement already satisfied: idna<3,>=2.5 in /usr/local/lib/python3.6/dist-packages (from requests->transformers) (2.10)\n",
            "Requirement already satisfied: chardet<4,>=3.0.2 in /usr/local/lib/python3.6/dist-packages (from requests->transformers) (3.0.4)\n",
            "Requirement already satisfied: certifi>=2017.4.17 in /usr/local/lib/python3.6/dist-packages (from requests->transformers) (2020.6.20)\n",
            "Requirement already satisfied: pyparsing>=2.0.2 in /usr/local/lib/python3.6/dist-packages (from packaging->transformers) (2.4.7)\n",
            "Building wheels for collected packages: sacremoses\n",
            "  Building wheel for sacremoses (setup.py) ... \u001b[?25l\u001b[?25hdone\n",
            "  Created wheel for sacremoses: filename=sacremoses-0.0.43-cp36-none-any.whl size=893257 sha256=e3ffc36bd097cd346820faaac6a95a8c8ce92294e7136105ce0fa0571b2672d4\n",
            "  Stored in directory: /root/.cache/pip/wheels/29/3c/fd/7ce5c3f0666dab31a50123635e6fb5e19ceb42ce38d4e58f45\n",
            "Successfully built sacremoses\n",
            "Installing collected packages: tokenizers, sacremoses, sentencepiece, transformers\n",
            "Successfully installed sacremoses-0.0.43 sentencepiece-0.1.94 tokenizers-0.9.2 transformers-3.4.0\n"
          ],
          "name": "stdout"
        }
      ]
    },
    {
      "cell_type": "code",
      "metadata": {
        "id": "t46WfNd_lkLG"
      },
      "source": [
        "# set the device to the used\n",
        "device = 'cuda' if torch.cuda.is_available() else 'cpu'"
      ],
      "execution_count": null,
      "outputs": []
    },
    {
      "cell_type": "markdown",
      "metadata": {
        "id": "kNZkfmrdj6eL"
      },
      "source": [
        "# Dataset generation\n",
        "This section can be skipped if you have the preprocessed data in your drive.  \n",
        "\n",
        "First, we read the CSV file into a Pandas DataFrame."
      ]
    },
    {
      "cell_type": "code",
      "metadata": {
        "id": "knSIeWjf8kwT"
      },
      "source": [
        "df = pd.read_csv(\"https://fbpac-images.s3.amazonaws.com/fbpac/en-US.csv.gz\")"
      ],
      "execution_count": null,
      "outputs": []
    },
    {
      "cell_type": "markdown",
      "metadata": {
        "id": "sD3QWLbwReBn"
      },
      "source": [
        "## Some useful information of the Dataframe"
      ]
    },
    {
      "cell_type": "code",
      "metadata": {
        "id": "MhEZ_ut59EvU",
        "colab": {
          "base_uri": "https://localhost:8080/",
          "height": 68
        },
        "outputId": "a4c4a845-b4f0-4174-ac0d-acdbd41731b3"
      },
      "source": [
        "print(f\"Total number of ads: {df.shape[0]}\")\n",
        "print(f\"Number of political ads: {(df['political'] >= 1).sum()}\")\n",
        "print(f\"Percentage of political ads: {(df['political'] >= 1).sum()/df.shape[0]}\")\n",
        "\n",
        "\n",
        "targets = []\n",
        "\n",
        "def update_targets(target):\n",
        "    '''\n",
        "        This method parsees the target JSON file and appends any new target to the targets list.\n",
        "    '''\n",
        "    if pd.isna(target):\n",
        "        return\n",
        "    target = json.loads(target)\n",
        "    for t in target:\n",
        "        if t['target'] not in targets:\n",
        "            targets.append(t['target'])\n",
        "\n",
        "\n",
        "# apply the update_targets method to every row of the DataFrame.\n",
        "df.apply(lambda row: update_targets(row['targets']), axis=1)\n",
        "print(f\"possible values of targets: \\n{targets}\")"
      ],
      "execution_count": null,
      "outputs": [
        {
          "output_type": "stream",
          "text": [
            "Total number of ads: 222168\n",
            "Number of political ads: 44277\n",
            "Percentage of political ads: 0.19929512801123475\n"
          ],
          "name": "stdout"
        }
      ]
    },
    {
      "cell_type": "markdown",
      "metadata": {
        "id": "QQFmqz6TRyrS"
      },
      "source": [
        "## Preprocess\n",
        "We want to parse the `target` column and use that information to construct additional feature columns ot every data based on the target information. "
      ]
    },
    {
      "cell_type": "code",
      "metadata": {
        "id": "Ws9ImatLsLMU"
      },
      "source": [
        " def update_row_with_targets(row):\n",
        "     if pd.isna(row['targets']):\n",
        "         return row\n",
        "     tgt = json.loads(row['targets'])\n",
        "     for t in tgt:\n",
        "         if 'segment' in t:\n",
        "            row[t['target']] = t['segment']\n",
        "     return row\n",
        " \n",
        " \n",
        " df = df.append(pd.DataFrame(columns=targets)).apply(lambda row: update_row_with_targets(row), axis=1)"
      ],
      "execution_count": null,
      "outputs": []
    },
    {
      "cell_type": "markdown",
      "metadata": {
        "id": "r3Aw90gckHY4"
      },
      "source": [
        "# Preprocess dataset"
      ]
    },
    {
      "cell_type": "code",
      "metadata": {
        "id": "uUPQp-zCcvAK"
      },
      "source": [
        "df.drop(columns=['Unnamed: 0','id','html', 'thumbnail', 'targeting', 'suppressed',\n",
        "       'targets','thumbnail', 'created_at', 'updated_at', 'lang', 'images','listbuilding_fundraising_proba',\n",
        "       'page_id', 'List','entities', 'page', 'lower_page','targetings', 'Mobile App'], inplace=True)"
      ],
      "execution_count": null,
      "outputs": []
    },
    {
      "cell_type": "code",
      "metadata": {
        "id": "3cXBOBUcd93I"
      },
      "source": [
        "def cleanhtml(raw_html):\n",
        "    cleanr = re.compile('<.*?>|&([a-z0-9]+|#[0-9]{1,6}|#x[0-9a-f]{1,6});')\n",
        "    cleantext = re.sub(cleanr, '', raw_html)\n",
        "    return cleantext\n",
        "\n",
        "df['message'] = df.apply(lambda row: cleanhtml(row['message']), axis=1)"
      ],
      "execution_count": null,
      "outputs": []
    },
    {
      "cell_type": "markdown",
      "metadata": {
        "id": "G2a_FsGTPedQ"
      },
      "source": [
        "# Save processed CSV file to drive\n",
        "Please note that to do this, you will have to connect drive to this notebook. Then, mention the entire path (including file name) from the root of your drive. An example is given as the default. Use the form in the following cell to give the path."
      ]
    },
    {
      "cell_type": "code",
      "metadata": {
        "id": "c2sJ-a0W2Tw1"
      },
      "source": [
        "#@title File path if you want to save csv to Drive\n",
        "path_in_drive = \"UMass/datasets/processed_ad_dataset.csv\" #@param {type:\"string\"}\n",
        "full_path = f\"/content/drive/My Drive/{path_in_drive}\"\n",
        "df.to_csv(full_path)"
      ],
      "execution_count": null,
      "outputs": []
    },
    {
      "cell_type": "markdown",
      "metadata": {
        "id": "MDkAacW1S73n"
      },
      "source": [
        "Great! You now have the entire preprocessed Ad dataset saved to your drive!"
      ]
    },
    {
      "cell_type": "markdown",
      "metadata": {
        "id": "bJ7cjjPpfuPy"
      },
      "source": [
        "# [WIP]Modeling"
      ]
    },
    {
      "cell_type": "code",
      "metadata": {
        "id": "jG1TKcrL3R_Q",
        "cellView": "code",
        "colab": {
          "base_uri": "https://localhost:8080/",
          "height": 71
        },
        "outputId": "a85520b2-e0d8-4a85-ce95-0fc337708ada"
      },
      "source": [
        "# Run this ONLY if you're starting the notebook from here. Please set teh drive path in the previous cell\n",
        "df = pd.read_csv(full_path)"
      ],
      "execution_count": null,
      "outputs": [
        {
          "output_type": "stream",
          "text": [
            "/usr/local/lib/python3.6/dist-packages/IPython/core/interactiveshell.py:2718: DtypeWarning: Columns (27,28,31,32,33,42,45,46,47,48,49,50,51) have mixed types.Specify dtype option on import or set low_memory=False.\n",
            "  interactivity=interactivity, compiler=compiler, result=result)\n"
          ],
          "name": "stderr"
        }
      ]
    },
    {
      "cell_type": "code",
      "metadata": {
        "id": "zyr-AXZoiK8L",
        "colab": {
          "base_uri": "https://localhost:8080/",
          "height": 66,
          "referenced_widgets": [
            "a38b0412e6074cf18c121bb0994a9a87",
            "a0c89dfb2b7c4d1bab536774ee2c8ebd",
            "03fc6e4f37e747cbbed1399c497cc58e",
            "f9b3e4dfd0bc449096b7b3b340a20748",
            "aab9fd7d42294984b9b44007e2f5d996",
            "b7196fe283dd4f19a6b1f760be9efb56",
            "8b6b1045d4964da18756dfccbc2b6cb9",
            "b929675ba1e947da873ed7157f45da73"
          ]
        },
        "outputId": "20355dc6-63ed-4eba-8ce7-1c8bda474dc2"
      },
      "source": [
        "tokenizer = BertTokenizer.from_pretrained('bert-base-uncased')"
      ],
      "execution_count": null,
      "outputs": [
        {
          "output_type": "display_data",
          "data": {
            "application/vnd.jupyter.widget-view+json": {
              "model_id": "a38b0412e6074cf18c121bb0994a9a87",
              "version_minor": 0,
              "version_major": 2
            },
            "text/plain": [
              "HBox(children=(FloatProgress(value=0.0, description='Downloading', max=231508.0, style=ProgressStyle(descripti…"
            ]
          },
          "metadata": {
            "tags": []
          }
        },
        {
          "output_type": "stream",
          "text": [
            "\n"
          ],
          "name": "stdout"
        }
      ]
    },
    {
      "cell_type": "code",
      "metadata": {
        "id": "FkRASwKziiVS",
        "colab": {
          "base_uri": "https://localhost:8080/",
          "height": 34
        },
        "outputId": "e116480b-2164-4676-91c0-85e1a129661d"
      },
      "source": [
        "sample_ids = tokenizer.encode('Hello this is Abdul')\n",
        "print(f\"Hello this is Abdul == {sample_ids}\")"
      ],
      "execution_count": null,
      "outputs": [
        {
          "output_type": "stream",
          "text": [
            "Hello this is Abdul == [101, 7592, 2023, 2003, 10298, 102]\n"
          ],
          "name": "stdout"
        }
      ]
    },
    {
      "cell_type": "code",
      "metadata": {
        "id": "HBAnuPhdi9yh"
      },
      "source": [
        "model = BertModel.from_pretrained('bert-base-uncased', output_hidden_states=True)\n",
        "model.eval()"
      ],
      "execution_count": null,
      "outputs": []
    },
    {
      "cell_type": "code",
      "metadata": {
        "id": "mUsXgafHmW64"
      },
      "source": [
        "def get_embedding(sent):\n",
        "    toks = tokenizer.encode(sent)\n",
        "    with torch.no_grad():\n",
        "        out = model(input_ids=torch.LongTensor(toks).unsqueeze(0))\n",
        "    hidden_states = out[2]\n",
        "    sent_embed = torch.mean(hidden_states[-1], dim=1).squeeze()\n",
        "    return sent_embed\n"
      ],
      "execution_count": null,
      "outputs": []
    },
    {
      "cell_type": "code",
      "metadata": {
        "id": "WsFbQU_rmn5U"
      },
      "source": [
        ""
      ],
      "execution_count": null,
      "outputs": []
    }
  ]
}