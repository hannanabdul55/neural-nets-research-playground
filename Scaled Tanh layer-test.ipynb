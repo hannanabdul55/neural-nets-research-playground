{
 "cells": [
  {
   "cell_type": "code",
   "execution_count": 1,
   "metadata": {},
   "outputs": [],
   "source": [
    "%load_ext autoreload\n",
    "%autoreload 2\n",
    "%load_ext tensorboard\n",
    "%matplotlib inline"
   ]
  },
  {
   "cell_type": "code",
   "execution_count": 2,
   "metadata": {},
   "outputs": [],
   "source": [
    "from utils import *\n",
    "from scale_layer import *\n",
    "from datetime import date"
   ]
  },
  {
   "cell_type": "code",
   "execution_count": 3,
   "metadata": {},
   "outputs": [
    {
     "name": "stdout",
     "output_type": "stream",
     "text": [
      "Files already downloaded and verified\n",
      "Files already downloaded and verified\n"
     ]
    }
   ],
   "source": [
    "trainloader, testloader, classes = load_CIFAR()"
   ]
  },
  {
   "cell_type": "markdown",
   "metadata": {},
   "source": [
    "### Batchnorm Training\n",
    "- `model_bn` is the model with batchnorm layers\n",
    "- train this model on the CIFAR 10 dataset"
   ]
  },
  {
   "cell_type": "code",
   "execution_count": 4,
   "metadata": {},
   "outputs": [],
   "source": [
    "loss_history_bn = []\n",
    "writer_bn = SummaryWriter(log_dir='runs/bn_stats-test-%s' % date.today(), flush_secs=10)"
   ]
  },
  {
   "cell_type": "code",
   "execution_count": 5,
   "metadata": {},
   "outputs": [],
   "source": [
    "model_bn = nn.Sequential(\n",
    "    nn.Conv2d(3, 16, 3),\n",
    "    ScaleLayer(tanh=True, writer=writer_bn),\n",
    "    nn.FractionalMaxPool2d(2, output_ratio=(1/np.sqrt(2))),\n",
    "    nn.Conv2d(16, 32, 3),\n",
    "    ScaleLayer(tanh=True, writer=writer_bn),\n",
    "    nn.FractionalMaxPool2d(2, output_ratio=(1/np.sqrt(2))),\n",
    "    nn.Flatten(),\n",
    "    nn.Linear(5408, 1152),\n",
    "    ScaleLayer(tanh=True, writer=writer_bn),\n",
    "    nn.Linear(1152, 512),\n",
    "    ScaleLayer(tanh=True, writer=writer_bn),\n",
    "    nn.Linear(512, 128),\n",
    "    ScaleLayer(tanh=True, writer=writer_bn),\n",
    "    nn.Linear(128, 10)\n",
    ")"
   ]
  },
  {
   "cell_type": "code",
   "execution_count": 6,
   "metadata": {},
   "outputs": [],
   "source": [
    "ce_loss = nn.CrossEntropyLoss(reduction='sum')\n",
    "def criterion(op, y, model_p):\n",
    "    params = list(model_p.parameters())\n",
    "    return ce_loss(op, y) #+ (1/len(params))*(torch.norm(torch.cat([param.view(-1) for param in params]))) #+ torch.sum((1/len(params))*torch.exp(torch.abs(torch.cat([param.view(-1) for param in params]))))\n"
   ]
  },
  {
   "cell_type": "code",
   "execution_count": 7,
   "metadata": {},
   "outputs": [
    {
     "name": "stdout",
     "output_type": "stream",
     "text": [
      "[1,   300] loss: 83.895\n",
      "[1,   600] loss: 81.017\n",
      "[2,   300] loss: 83.816\n",
      "[2,   600] loss: 67.662\n",
      "[3,   300] loss: 64.859\n",
      "[3,   600] loss: 71.525\n",
      "[4,   300] loss: 76.311\n",
      "[4,   600] loss: 58.988\n",
      "[5,   300] loss: 61.730\n",
      "[5,   600] loss: 50.550\n",
      "[6,   300] loss: 53.798\n",
      "[6,   600] loss: 56.084\n",
      "[7,   300] loss: 74.826\n",
      "[7,   600] loss: 48.872\n",
      "[8,   300] loss: 41.761\n",
      "[8,   600] loss: 55.253\n",
      "[9,   300] loss: 45.908\n",
      "[9,   600] loss: 34.489\n",
      "[10,   300] loss: 39.807\n",
      "[10,   600] loss: 59.676\n",
      "[11,   300] loss: 50.701\n",
      "[11,   600] loss: 38.134\n",
      "[12,   300] loss: 29.604\n",
      "[12,   600] loss: 45.058\n",
      "[13,   300] loss: 42.479\n",
      "[13,   600] loss: 37.061\n",
      "[14,   300] loss: 24.695\n",
      "[14,   600] loss: 32.002\n",
      "[15,   300] loss: 30.886\n",
      "[15,   600] loss: 29.199\n",
      "[16,   300] loss: 28.073\n",
      "[16,   600] loss: 29.647\n",
      "[17,   300] loss: 31.322\n",
      "[17,   600] loss: 15.605\n",
      "[18,   300] loss: 22.783\n",
      "[18,   600] loss: 20.256\n",
      "[19,   300] loss: 27.406\n",
      "[19,   600] loss: 29.945\n",
      "[20,   300] loss: 25.233\n",
      "[20,   600] loss: 22.347\n"
     ]
    }
   ],
   "source": [
    "loss_tanh = train_model(model_bn, trainloader, criterion, optimizer = optim.Adam(list(model_bn.parameters()), lr=3e-4), epochs=20, writer=writer_bn)"
   ]
  },
  {
   "cell_type": "code",
   "execution_count": 10,
   "metadata": {},
   "outputs": [
    {
     "name": "stdout",
     "output_type": "stream",
     "text": [
      "Mean:  0.039082933\n",
      "Standard Deviation:  0.03185012\n",
      "Sparsity:  0.0017200133864245003\n"
     ]
    }
   ],
   "source": [
    "stats_bn = print_stats(model_bn)"
   ]
  },
  {
   "cell_type": "code",
   "execution_count": 11,
   "metadata": {},
   "outputs": [
    {
     "name": "stdout",
     "output_type": "stream",
     "text": [
      "test error: 0.3285\n"
     ]
    }
   ],
   "source": [
    "bn_model_err = get_model_error(model_bn, testloader)"
   ]
  },
  {
   "cell_type": "code",
   "execution_count": null,
   "metadata": {},
   "outputs": [],
   "source": []
  }
 ],
 "metadata": {
  "kernelspec": {
   "display_name": "Python 3",
   "language": "python",
   "name": "python3"
  },
  "language_info": {
   "codemirror_mode": {
    "name": "ipython",
    "version": 3
   },
   "file_extension": ".py",
   "mimetype": "text/x-python",
   "name": "python",
   "nbconvert_exporter": "python",
   "pygments_lexer": "ipython3",
   "version": "3.5.6"
  }
 },
 "nbformat": 4,
 "nbformat_minor": 2
}
