{
 "cells": [
  {
   "cell_type": "markdown",
   "metadata": {
    "colab_type": "text",
    "id": "view-in-github"
   },
   "source": [
    "<a href=\"https://colab.research.google.com/github/hannanabdul55/neural-nets-research-playground/blob/master/Ad_dataset.ipynb\" target=\"_parent\"><img src=\"https://colab.research.google.com/assets/colab-badge.svg\" alt=\"Open In Colab\"/></a>"
   ]
  },
  {
   "cell_type": "code",
   "execution_count": 2,
   "metadata": {
    "colab": {
     "base_uri": "https://localhost:8080/",
     "height": 649
    },
    "id": "bziqmTzO8hrT",
    "outputId": "2f3840c0-ec2c-47bb-8379-ea29fbdb2d3b"
   },
   "outputs": [],
   "source": [
    "import pandas as pd\n",
    "import json\n",
    "import re\n",
    "\n",
    "import torch\n",
    "\n",
    "# Try import ing external module, if not, pip install the pacage and import \n",
    "try:\n",
    "    from transformers import BertModel, BertTokenizer\n",
    "except:\n",
    "    !pip install transformers\n",
    "    from transformers import BertModel, BertTokenizer\n",
    "\n",
    "import sklearn\n",
    "# from sklearn_pandas import DataFrameMapper\n",
    "import numpy as np\n",
    "from sklearn.pipeline import Pipeline\n",
    "from sklearn.feature_extraction import DictVectorizer\n",
    "from sklearn.feature_extraction.text import HashingVectorizer"
   ]
  },
  {
   "cell_type": "code",
   "execution_count": 3,
   "metadata": {
    "id": "t46WfNd_lkLG"
   },
   "outputs": [],
   "source": [
    "# set the device to the used\n",
    "device = 'cuda' if torch.cuda.is_available() else 'cpu'"
   ]
  },
  {
   "cell_type": "markdown",
   "metadata": {
    "id": "kNZkfmrdj6eL"
   },
   "source": [
    "# Dataset generation\n",
    "This section can be skipped if you have the preprocessed data in your drive.  \n",
    "\n",
    "First, we read the CSV file into a Pandas DataFrame."
   ]
  },
  {
   "cell_type": "code",
   "execution_count": 4,
   "metadata": {
    "id": "knSIeWjf8kwT"
   },
   "outputs": [],
   "source": [
    "df = pd.read_csv(\"en-US.csv\")"
   ]
  },
  {
   "cell_type": "markdown",
   "metadata": {
    "id": "sD3QWLbwReBn"
   },
   "source": [
    "## Some useful information of the Dataframe"
   ]
  },
  {
   "cell_type": "code",
   "execution_count": 5,
   "metadata": {
    "colab": {
     "base_uri": "https://localhost:8080/",
     "height": 68
    },
    "id": "MhEZ_ut59EvU",
    "outputId": "a4c4a845-b4f0-4174-ac0d-acdbd41731b3"
   },
   "outputs": [
    {
     "name": "stdout",
     "output_type": "stream",
     "text": [
      "Total number of ads: 222186\n",
      "Number of political ads: 130106\n",
      "Percentage of political ads: 0.5855724483090744\n",
      "possible values of targets: \n",
      "['List', 'Audience Owner', 'Mobile App', 'Like', 'MinAge', 'Age', 'Country', 'Location Granularity', 'Location Type', 'Retargeting', 'Region', 'Activity on the Facebook Family', 'Interest', 'Language', 'Segment', 'Education', 'MaxAge', 'Gender', 'State', 'City', 'Website', 'Custom Audience Match Key', 'Job Title', 'Relationship Status', 'Agency', 'Employer', 'Engaged with Content']\n"
     ]
    }
   ],
   "source": [
    "print(f\"Total number of ads: {df.shape[0]}\")\n",
    "print(f\"Number of political ads: {(df['political'] >= 1).sum()}\")\n",
    "print(f\"Percentage of political ads: {(df['political'] >= 1).sum()/df.shape[0]}\")\n",
    "\n",
    "\n",
    "targets = []\n",
    "\n",
    "def update_targets(target):\n",
    "    '''\n",
    "        This method parsees the target JSON file and appends any new target to the targets list.\n",
    "    '''\n",
    "    if pd.isna(target):\n",
    "        return\n",
    "    target = json.loads(target)\n",
    "    for t in target:\n",
    "        if t['target'] not in targets:\n",
    "            targets.append(t['target'])\n",
    "\n",
    "\n",
    "# apply the update_targets method to every row of the DataFrame.\n",
    "df.apply(lambda row: update_targets(row['targets']), axis=1)\n",
    "print(f\"possible values of targets: \\n{targets}\")"
   ]
  },
  {
   "cell_type": "code",
   "execution_count": 10,
   "metadata": {},
   "outputs": [
    {
     "data": {
      "text/plain": [
       "array([  0,   2,   1,   4,   3,  12,   5,   6,   8,   7,  18,  10,  11,\n",
       "        15,  17,   9,  16,  19,  13,  14,  21,  27,  25,  26,  29,  28,\n",
       "        22,  20,  35,  31,  38,  23,  32,  33,  40,  36,  34,  30,  43,\n",
       "        45,  24,  37,  51,  57,  48,  52,  55,  41,  46,  49, 158,  97,\n",
       "       128, 137,  83, 127, 101,  69,  42,  39,  72,  47,  71,  54,  50,\n",
       "        91,  89,  86,  82,  44,  53, 100,  87,  64,  60,  66,  59,  56,\n",
       "       107,  93,  79,  81,  78,  75,  73,  58,  61,  88,  65,  74,  62,\n",
       "        68,  95,  84,  98,  96,  63, 119,  85, 115, 105, 351,  94, 103,\n",
       "       117, 389, 114,  77, 265,  70,  90, 298, 113, 125, 366, 360, 401,\n",
       "       300,  80, 335, 364, 319, 371, 361,  67, 353, 257, 237, 269, 272,\n",
       "       138, 253, 243, 215, 192, 255, 490, 402, 411, 417, 277, 383, 339,\n",
       "       394, 314, 333, 405, 474, 439, 443, 410, 457, 139, 303, 376, 475,\n",
       "       452, 440, 477, 481, 418, 446])"
      ]
     },
     "execution_count": 10,
     "metadata": {},
     "output_type": "execute_result"
    }
   ],
   "source": [
    "df['political'].unique()"
   ]
  },
  {
   "cell_type": "markdown",
   "metadata": {
    "id": "QQFmqz6TRyrS"
   },
   "source": [
    "## Preprocess\n",
    "We want to parse the `target` column and use that information to construct additional feature columns ot every data based on the target information. "
   ]
  },
  {
   "cell_type": "code",
   "execution_count": 11,
   "metadata": {
    "id": "Ws9ImatLsLMU"
   },
   "outputs": [],
   "source": [
    "def update_row_with_targets(row):\n",
    "    if pd.isna(row['targets']):\n",
    "        return row\n",
    "    tgt = json.loads(row['targets'])\n",
    "    for t in tgt:\n",
    "        if 'segment' in t:\n",
    "            row[t['target']] = t['segment']\n",
    "    return row\n",
    "\n",
    " \n",
    "df = df.append(pd.DataFrame(columns=targets)).apply(lambda row: update_row_with_targets(row), axis=1)"
   ]
  },
  {
   "cell_type": "markdown",
   "metadata": {
    "id": "r3Aw90gckHY4"
   },
   "source": [
    "# Preprocess dataset"
   ]
  },
  {
   "cell_type": "code",
   "execution_count": null,
   "metadata": {
    "id": "uUPQp-zCcvAK"
   },
   "outputs": [],
   "source": [
    "df.drop(columns=['Unnamed: 0','id','html', 'thumbnail', 'targeting', 'suppressed',\n",
    "       'targets','thumbnail', 'created_at', 'updated_at', 'lang', 'images','listbuilding_fundraising_proba',\n",
    "       'page_id', 'List','entities', 'page', 'lower_page','targetings', 'Mobile App'], inplace=True)"
   ]
  },
  {
   "cell_type": "code",
   "execution_count": 12,
   "metadata": {
    "id": "3cXBOBUcd93I"
   },
   "outputs": [],
   "source": [
    "def cleanhtml(raw_html):\n",
    "    cleanr = re.compile('<.*?>|&([a-z0-9]+|#[0-9]{1,6}|#x[0-9a-f]{1,6});')\n",
    "    cleantext = re.sub(cleanr, '', raw_html)\n",
    "    return cleantext\n",
    "\n",
    "df['message'] = df.apply(lambda row: cleanhtml(row['message']), axis=1)"
   ]
  },
  {
   "cell_type": "code",
   "execution_count": 15,
   "metadata": {},
   "outputs": [],
   "source": [
    "df.to_csv('ad_processed.csv')"
   ]
  },
  {
   "cell_type": "markdown",
   "metadata": {
    "id": "G2a_FsGTPedQ"
   },
   "source": [
    "# Save processed CSV file to drive\n",
    "Please note that to do this, you will have to connect drive to this notebook. Then, mention the entire path (including file name) from the root of your drive. An example is given as the default. Use the form in the following cell to give the path."
   ]
  },
  {
   "cell_type": "code",
   "execution_count": null,
   "metadata": {
    "id": "c2sJ-a0W2Tw1"
   },
   "outputs": [],
   "source": [
    "#@title File path if you want to save csv to Drive\n",
    "path_in_drive = \"UMass/datasets/processed_ad_dataset.csv\" #@param {type:\"string\"}\n",
    "full_path = f\"/content/drive/My Drive/{path_in_drive}\"\n",
    "df.to_csv(full_path)"
   ]
  },
  {
   "cell_type": "markdown",
   "metadata": {
    "id": "MDkAacW1S73n"
   },
   "source": [
    "Great! You now have the entire preprocessed Ad dataset saved to your drive!"
   ]
  },
  {
   "cell_type": "markdown",
   "metadata": {
    "id": "bJ7cjjPpfuPy"
   },
   "source": [
    "# [WIP]Modeling"
   ]
  },
  {
   "cell_type": "code",
   "execution_count": null,
   "metadata": {
    "cellView": "code",
    "colab": {
     "base_uri": "https://localhost:8080/",
     "height": 71
    },
    "id": "jG1TKcrL3R_Q",
    "outputId": "a85520b2-e0d8-4a85-ce95-0fc337708ada"
   },
   "outputs": [
    {
     "name": "stderr",
     "output_type": "stream",
     "text": [
      "/usr/local/lib/python3.6/dist-packages/IPython/core/interactiveshell.py:2718: DtypeWarning: Columns (27,28,31,32,33,42,45,46,47,48,49,50,51) have mixed types.Specify dtype option on import or set low_memory=False.\n",
      "  interactivity=interactivity, compiler=compiler, result=result)\n"
     ]
    }
   ],
   "source": [
    "# Run this ONLY if you're starting the notebook from here. Please set teh drive path in the previous cell\n",
    "df = pd.read_csv(full_path)"
   ]
  },
  {
   "cell_type": "code",
   "execution_count": null,
   "metadata": {
    "colab": {
     "base_uri": "https://localhost:8080/",
     "height": 66,
     "referenced_widgets": [
      "a38b0412e6074cf18c121bb0994a9a87",
      "a0c89dfb2b7c4d1bab536774ee2c8ebd",
      "03fc6e4f37e747cbbed1399c497cc58e",
      "f9b3e4dfd0bc449096b7b3b340a20748",
      "aab9fd7d42294984b9b44007e2f5d996",
      "b7196fe283dd4f19a6b1f760be9efb56",
      "8b6b1045d4964da18756dfccbc2b6cb9",
      "b929675ba1e947da873ed7157f45da73"
     ]
    },
    "id": "zyr-AXZoiK8L",
    "outputId": "20355dc6-63ed-4eba-8ce7-1c8bda474dc2"
   },
   "outputs": [
    {
     "data": {
      "application/vnd.jupyter.widget-view+json": {
       "model_id": "a38b0412e6074cf18c121bb0994a9a87",
       "version_major": 2,
       "version_minor": 0
      },
      "text/plain": [
       "HBox(children=(FloatProgress(value=0.0, description='Downloading', max=231508.0, style=ProgressStyle(descripti…"
      ]
     },
     "metadata": {
      "tags": []
     },
     "output_type": "display_data"
    },
    {
     "name": "stdout",
     "output_type": "stream",
     "text": [
      "\n"
     ]
    }
   ],
   "source": [
    "tokenizer = BertTokenizer.from_pretrained('bert-base-uncased')"
   ]
  },
  {
   "cell_type": "code",
   "execution_count": null,
   "metadata": {
    "colab": {
     "base_uri": "https://localhost:8080/",
     "height": 34
    },
    "id": "FkRASwKziiVS",
    "outputId": "e116480b-2164-4676-91c0-85e1a129661d"
   },
   "outputs": [
    {
     "name": "stdout",
     "output_type": "stream",
     "text": [
      "Hello this is Abdul == [101, 7592, 2023, 2003, 10298, 102]\n"
     ]
    }
   ],
   "source": [
    "sample_ids = tokenizer.encode('Hello this is Abdul')\n",
    "print(f\"Hello this is Abdul == {sample_ids}\")"
   ]
  },
  {
   "cell_type": "code",
   "execution_count": null,
   "metadata": {
    "id": "HBAnuPhdi9yh"
   },
   "outputs": [],
   "source": [
    "model = BertModel.from_pretrained('bert-base-uncased', output_hidden_states=True)\n",
    "model.eval()"
   ]
  },
  {
   "cell_type": "code",
   "execution_count": null,
   "metadata": {
    "id": "mUsXgafHmW64"
   },
   "outputs": [],
   "source": [
    "def get_embedding(sent):\n",
    "    toks = tokenizer.encode(sent)\n",
    "    with torch.no_grad():\n",
    "        out = model(input_ids=torch.LongTensor(toks).unsqueeze(0))\n",
    "    hidden_states = out[2]\n",
    "    sent_embed = torch.mean(hidden_states[-1], dim=1).squeeze()\n",
    "    return sent_embed\n"
   ]
  },
  {
   "cell_type": "code",
   "execution_count": null,
   "metadata": {
    "id": "WsFbQU_rmn5U"
   },
   "outputs": [],
   "source": []
  }
 ],
 "metadata": {
  "colab": {
   "authorship_tag": "ABX9TyMgnAueDSCrFeIkFwveZmQF",
   "collapsed_sections": [],
   "include_colab_link": true,
   "mount_file_id": "1AB79WO8wIlJ9VH9rwt7irr3IS33eDWAy",
   "name": "Ad_dataset.ipynb",
   "provenance": [],
   "toc_visible": true
  },
  "kernelspec": {
   "display_name": "Python 3",
   "language": "python",
   "name": "python3"
  },
  "language_info": {
   "codemirror_mode": {
    "name": "ipython",
    "version": 3
   },
   "file_extension": ".py",
   "mimetype": "text/x-python",
   "name": "python",
   "nbconvert_exporter": "python",
   "pygments_lexer": "ipython3",
   "version": "3.7.9"
  },
  "widgets": {
   "application/vnd.jupyter.widget-state+json": {
    "03fc6e4f37e747cbbed1399c497cc58e": {
     "model_module": "@jupyter-widgets/controls",
     "model_name": "FloatProgressModel",
     "state": {
      "_dom_classes": [],
      "_model_module": "@jupyter-widgets/controls",
      "_model_module_version": "1.5.0",
      "_model_name": "FloatProgressModel",
      "_view_count": null,
      "_view_module": "@jupyter-widgets/controls",
      "_view_module_version": "1.5.0",
      "_view_name": "ProgressView",
      "bar_style": "success",
      "description": "Downloading: 100%",
      "description_tooltip": null,
      "layout": "IPY_MODEL_b7196fe283dd4f19a6b1f760be9efb56",
      "max": 231508,
      "min": 0,
      "orientation": "horizontal",
      "style": "IPY_MODEL_aab9fd7d42294984b9b44007e2f5d996",
      "value": 231508
     }
    },
    "8b6b1045d4964da18756dfccbc2b6cb9": {
     "model_module": "@jupyter-widgets/controls",
     "model_name": "DescriptionStyleModel",
     "state": {
      "_model_module": "@jupyter-widgets/controls",
      "_model_module_version": "1.5.0",
      "_model_name": "DescriptionStyleModel",
      "_view_count": null,
      "_view_module": "@jupyter-widgets/base",
      "_view_module_version": "1.2.0",
      "_view_name": "StyleView",
      "description_width": ""
     }
    },
    "a0c89dfb2b7c4d1bab536774ee2c8ebd": {
     "model_module": "@jupyter-widgets/base",
     "model_name": "LayoutModel",
     "state": {
      "_model_module": "@jupyter-widgets/base",
      "_model_module_version": "1.2.0",
      "_model_name": "LayoutModel",
      "_view_count": null,
      "_view_module": "@jupyter-widgets/base",
      "_view_module_version": "1.2.0",
      "_view_name": "LayoutView",
      "align_content": null,
      "align_items": null,
      "align_self": null,
      "border": null,
      "bottom": null,
      "display": null,
      "flex": null,
      "flex_flow": null,
      "grid_area": null,
      "grid_auto_columns": null,
      "grid_auto_flow": null,
      "grid_auto_rows": null,
      "grid_column": null,
      "grid_gap": null,
      "grid_row": null,
      "grid_template_areas": null,
      "grid_template_columns": null,
      "grid_template_rows": null,
      "height": null,
      "justify_content": null,
      "justify_items": null,
      "left": null,
      "margin": null,
      "max_height": null,
      "max_width": null,
      "min_height": null,
      "min_width": null,
      "object_fit": null,
      "object_position": null,
      "order": null,
      "overflow": null,
      "overflow_x": null,
      "overflow_y": null,
      "padding": null,
      "right": null,
      "top": null,
      "visibility": null,
      "width": null
     }
    },
    "a38b0412e6074cf18c121bb0994a9a87": {
     "model_module": "@jupyter-widgets/controls",
     "model_name": "HBoxModel",
     "state": {
      "_dom_classes": [],
      "_model_module": "@jupyter-widgets/controls",
      "_model_module_version": "1.5.0",
      "_model_name": "HBoxModel",
      "_view_count": null,
      "_view_module": "@jupyter-widgets/controls",
      "_view_module_version": "1.5.0",
      "_view_name": "HBoxView",
      "box_style": "",
      "children": [
       "IPY_MODEL_03fc6e4f37e747cbbed1399c497cc58e",
       "IPY_MODEL_f9b3e4dfd0bc449096b7b3b340a20748"
      ],
      "layout": "IPY_MODEL_a0c89dfb2b7c4d1bab536774ee2c8ebd"
     }
    },
    "aab9fd7d42294984b9b44007e2f5d996": {
     "model_module": "@jupyter-widgets/controls",
     "model_name": "ProgressStyleModel",
     "state": {
      "_model_module": "@jupyter-widgets/controls",
      "_model_module_version": "1.5.0",
      "_model_name": "ProgressStyleModel",
      "_view_count": null,
      "_view_module": "@jupyter-widgets/base",
      "_view_module_version": "1.2.0",
      "_view_name": "StyleView",
      "bar_color": null,
      "description_width": "initial"
     }
    },
    "b7196fe283dd4f19a6b1f760be9efb56": {
     "model_module": "@jupyter-widgets/base",
     "model_name": "LayoutModel",
     "state": {
      "_model_module": "@jupyter-widgets/base",
      "_model_module_version": "1.2.0",
      "_model_name": "LayoutModel",
      "_view_count": null,
      "_view_module": "@jupyter-widgets/base",
      "_view_module_version": "1.2.0",
      "_view_name": "LayoutView",
      "align_content": null,
      "align_items": null,
      "align_self": null,
      "border": null,
      "bottom": null,
      "display": null,
      "flex": null,
      "flex_flow": null,
      "grid_area": null,
      "grid_auto_columns": null,
      "grid_auto_flow": null,
      "grid_auto_rows": null,
      "grid_column": null,
      "grid_gap": null,
      "grid_row": null,
      "grid_template_areas": null,
      "grid_template_columns": null,
      "grid_template_rows": null,
      "height": null,
      "justify_content": null,
      "justify_items": null,
      "left": null,
      "margin": null,
      "max_height": null,
      "max_width": null,
      "min_height": null,
      "min_width": null,
      "object_fit": null,
      "object_position": null,
      "order": null,
      "overflow": null,
      "overflow_x": null,
      "overflow_y": null,
      "padding": null,
      "right": null,
      "top": null,
      "visibility": null,
      "width": null
     }
    },
    "b929675ba1e947da873ed7157f45da73": {
     "model_module": "@jupyter-widgets/base",
     "model_name": "LayoutModel",
     "state": {
      "_model_module": "@jupyter-widgets/base",
      "_model_module_version": "1.2.0",
      "_model_name": "LayoutModel",
      "_view_count": null,
      "_view_module": "@jupyter-widgets/base",
      "_view_module_version": "1.2.0",
      "_view_name": "LayoutView",
      "align_content": null,
      "align_items": null,
      "align_self": null,
      "border": null,
      "bottom": null,
      "display": null,
      "flex": null,
      "flex_flow": null,
      "grid_area": null,
      "grid_auto_columns": null,
      "grid_auto_flow": null,
      "grid_auto_rows": null,
      "grid_column": null,
      "grid_gap": null,
      "grid_row": null,
      "grid_template_areas": null,
      "grid_template_columns": null,
      "grid_template_rows": null,
      "height": null,
      "justify_content": null,
      "justify_items": null,
      "left": null,
      "margin": null,
      "max_height": null,
      "max_width": null,
      "min_height": null,
      "min_width": null,
      "object_fit": null,
      "object_position": null,
      "order": null,
      "overflow": null,
      "overflow_x": null,
      "overflow_y": null,
      "padding": null,
      "right": null,
      "top": null,
      "visibility": null,
      "width": null
     }
    },
    "f9b3e4dfd0bc449096b7b3b340a20748": {
     "model_module": "@jupyter-widgets/controls",
     "model_name": "HTMLModel",
     "state": {
      "_dom_classes": [],
      "_model_module": "@jupyter-widgets/controls",
      "_model_module_version": "1.5.0",
      "_model_name": "HTMLModel",
      "_view_count": null,
      "_view_module": "@jupyter-widgets/controls",
      "_view_module_version": "1.5.0",
      "_view_name": "HTMLView",
      "description": "",
      "description_tooltip": null,
      "layout": "IPY_MODEL_b929675ba1e947da873ed7157f45da73",
      "placeholder": "​",
      "style": "IPY_MODEL_8b6b1045d4964da18756dfccbc2b6cb9",
      "value": " 232k/232k [00:00&lt;00:00, 2.14MB/s]"
     }
    }
   }
  }
 },
 "nbformat": 4,
 "nbformat_minor": 1
}
