{
 "cells": [
  {
   "cell_type": "code",
   "execution_count": 1,
   "metadata": {},
   "outputs": [],
   "source": [
    "%load_ext autoreload\n",
    "%autoreload 2\n",
    "%load_ext tensorboard\n",
    "%matplotlib inline"
   ]
  },
  {
   "cell_type": "code",
   "execution_count": 2,
   "metadata": {},
   "outputs": [],
   "source": [
    "from utils import *\n",
    "from datetime import date"
   ]
  },
  {
   "cell_type": "code",
   "execution_count": 3,
   "metadata": {},
   "outputs": [
    {
     "name": "stdout",
     "output_type": "stream",
     "text": [
      "Files already downloaded and verified\n",
      "Files already downloaded and verified\n"
     ]
    }
   ],
   "source": [
    "trainloader, testloader, classes = load_CIFAR()"
   ]
  },
  {
   "cell_type": "markdown",
   "metadata": {},
   "source": [
    "### Batchnorm Training\n",
    "- `model_bn` is the model with batchnorm layers\n",
    "- train this model on the CIFAR 10 dataset"
   ]
  },
  {
   "cell_type": "code",
   "execution_count": 4,
   "metadata": {},
   "outputs": [],
   "source": [
    "model_bn = nn.Sequential(\n",
    "    nn.Conv2d(3, 16, 3),\n",
    "    nn.Tanh(),\n",
    "    nn.FractionalMaxPool2d(2, output_ratio=(1/np.sqrt(2))),\n",
    "    nn.Conv2d(16, 32, 3),\n",
    "    nn.Tanh(),\n",
    "    nn.FractionalMaxPool2d(2, output_ratio=(1/np.sqrt(2))),\n",
    "    nn.Flatten(),\n",
    "    nn.Linear(5408, 1152),\n",
    "    nn.BatchNorm1d(1152),\n",
    "    nn.Tanh(),\n",
    "    nn.Linear(1152, 512),\n",
    "    nn.BatchNorm1d(512),\n",
    "    nn.Tanh(),\n",
    "    nn.Linear(512, 128),\n",
    "    nn.BatchNorm1d(128),\n",
    "    nn.Tanh(),\n",
    "    nn.Linear(128, 10)\n",
    ")"
   ]
  },
  {
   "cell_type": "code",
   "execution_count": 5,
   "metadata": {},
   "outputs": [],
   "source": [
    "loss_history_bn = []\n",
    "writer_bn = SummaryWriter(log_dir='runs/bn_stats-%s' % date.today(), flush_secs=10)"
   ]
  },
  {
   "cell_type": "code",
   "execution_count": 6,
   "metadata": {},
   "outputs": [],
   "source": [
    "ce_loss = nn.CrossEntropyLoss(reduction='sum')\n",
    "def criterion(op, y, model_p):\n",
    "    params = list(model_p.parameters())\n",
    "    return ce_loss(op, y) #+ (1/len(params))*(torch.norm(torch.cat([param.view(-1) for param in params]))) #+ torch.sum((1/len(params))*torch.exp(torch.abs(torch.cat([param.view(-1) for param in params]))))\n"
   ]
  },
  {
   "cell_type": "code",
   "execution_count": 7,
   "metadata": {},
   "outputs": [
    {
     "name": "stdout",
     "output_type": "stream",
     "text": [
      "[1,   300] loss: 74.074\n",
      "[1,   600] loss: 86.137\n",
      "[2,   300] loss: 71.429\n",
      "[2,   600] loss: 56.982\n",
      "[3,   300] loss: 64.992\n",
      "[3,   600] loss: 61.539\n",
      "[4,   300] loss: 57.573\n",
      "[4,   600] loss: 60.354\n",
      "[5,   300] loss: 59.456\n",
      "[5,   600] loss: 45.987\n",
      "[6,   300] loss: 49.959\n",
      "[6,   600] loss: 65.092\n",
      "[7,   300] loss: 48.579\n",
      "[7,   600] loss: 57.464\n",
      "[8,   300] loss: 45.842\n",
      "[8,   600] loss: 39.021\n",
      "[9,   300] loss: 36.963\n",
      "[9,   600] loss: 36.688\n",
      "[10,   300] loss: 34.752\n",
      "[10,   600] loss: 30.771\n",
      "[11,   300] loss: 36.247\n",
      "[11,   600] loss: 19.673\n",
      "[12,   300] loss: 30.540\n",
      "[12,   600] loss: 16.395\n",
      "[13,   300] loss: 25.840\n",
      "[13,   600] loss: 24.904\n",
      "[14,   300] loss: 26.002\n",
      "[14,   600] loss: 29.593\n",
      "[15,   300] loss: 19.097\n",
      "[15,   600] loss: 12.667\n",
      "[16,   300] loss: 12.360\n",
      "[16,   600] loss: 17.417\n",
      "[17,   300] loss: 10.826\n",
      "[17,   600] loss: 11.987\n",
      "[18,   300] loss: 7.680\n",
      "[18,   600] loss: 5.659\n",
      "[19,   300] loss: 14.996\n",
      "[19,   600] loss: 7.228\n",
      "[20,   300] loss: 8.215\n",
      "[20,   600] loss: 13.650\n"
     ]
    }
   ],
   "source": [
    "loss_tanh = train_model(model_bn, trainloader, criterion, optimizer = optim.Adam(list(model_bn.parameters()), lr=3e-4), epochs=20, writer=writer_bn)"
   ]
  },
  {
   "cell_type": "code",
   "execution_count": 10,
   "metadata": {},
   "outputs": [
    {
     "name": "stdout",
     "output_type": "stream",
     "text": [
      "Mean:  0.030711716\n",
      "Standard Deviation:  0.032555684\n",
      "Sparsity:  0.002111457954250536\n"
     ]
    }
   ],
   "source": [
    "stats_bn = print_stats(model_bn)"
   ]
  },
  {
   "cell_type": "code",
   "execution_count": 11,
   "metadata": {},
   "outputs": [
    {
     "name": "stdout",
     "output_type": "stream",
     "text": [
      "test error: 0.3059\n"
     ]
    }
   ],
   "source": [
    "bn_model_err = get_model_error(model_bn, testloader)"
   ]
  },
  {
   "cell_type": "code",
   "execution_count": null,
   "metadata": {},
   "outputs": [],
   "source": []
  }
 ],
 "metadata": {
  "kernelspec": {
   "display_name": "Python 3",
   "language": "python",
   "name": "python3"
  },
  "language_info": {
   "codemirror_mode": {
    "name": "ipython",
    "version": 3
   },
   "file_extension": ".py",
   "mimetype": "text/x-python",
   "name": "python",
   "nbconvert_exporter": "python",
   "pygments_lexer": "ipython3",
   "version": "3.5.6"
  }
 },
 "nbformat": 4,
 "nbformat_minor": 2
}
